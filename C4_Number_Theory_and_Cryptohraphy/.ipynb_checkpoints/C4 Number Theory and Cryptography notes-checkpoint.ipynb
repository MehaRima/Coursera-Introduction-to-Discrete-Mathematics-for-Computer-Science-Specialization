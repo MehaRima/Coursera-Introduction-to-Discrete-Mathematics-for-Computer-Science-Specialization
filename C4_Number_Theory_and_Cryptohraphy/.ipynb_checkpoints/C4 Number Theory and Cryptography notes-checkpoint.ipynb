{
 "cells": [
  {
   "cell_type": "markdown",
   "metadata": {},
   "source": [
    "# W1. Modular Arithmetic\n"
   ]
  },
  {
   "cell_type": "markdown",
   "metadata": {},
   "source": [
    "## 1.1 Divisibility"
   ]
  },
  {
   "cell_type": "markdown",
   "metadata": {},
   "source": [
    "### Numbers"
   ]
  },
  {
   "cell_type": "markdown",
   "metadata": {},
   "source": [
    "- We are used to number and use them constantly\n",
    "- It all started with counting: 1, 2, 3 ...\n",
    "\n",
    "Inverse operations are also possible:\n",
    "- substraction is inverse to addition\n",
    "- division is inverse to multiplication\n",
    "\n",
    "#### Integer Numbers\n",
    "Q: Substraction is not always possible, for example 2 - 3 = ?  \n",
    "A: Solution: negative numbers and zero\n",
    "- Now we have ints -3, -2, ... 2, 3 and substraction is possible\n",
    "- multiplication can be also extended to negative numbers  \n",
    "\n",
    "Q: Division is not always possible: 3/2 = ?  \n",
    "A: Solution: rational numbers\n",
    "\n",
    "#### Number Theory\n",
    "- Number theory: studies integers and operations on them\n",
    "- Basics of number theory have natural applications:\n",
    "- Advanced number theory had not\n",
    "- (Stated explicitly by top number theorists Godfrey Hardy, Leonard Dickson)\n",
    "\n",
    "\n",
    "- **but**, virtually every theorem in elementary number theory arises in a natural, motivated way in connection with the problem of making computers do high-speed numerical calculations (C) Donald Knuth\n",
    "- Hovewer even more number theory is vital for the modern cryptography\n",
    "- Through cryptography it dramatically affects our life: email, messengers, online transactions, Internet as a whole, etc."
   ]
  },
  {
   "cell_type": "markdown",
   "metadata": {},
   "source": [
    "### Divisibility"
   ]
  },
  {
   "cell_type": "markdown",
   "metadata": {},
   "source": [
    "- Division is not always possible over integers\n",
    "- Its needed to identify the cases when it is possible\n",
    "\n",
    "Q: What does it mean that number a is divisible by b?  \n",
    "A (Naive): Consider a rational number $\\frac {a}{b}$; if it is integer, then a is divisible by b.\n",
    "\n",
    "However, Naive answer reduces the question to the more complex one\n",
    "\n",
    "$\\frac {a}{b} == int$ means that the denominator cancels out =>  \n",
    "it can be represented as a product of two integers:  \n",
    "b and other integer k: $ k: a = b \\times k$  \n",
    "then we have $\\frac {a}{b} = \\frac{b\\times k}{b} = k$\n",
    "\n",
    "`Divisibility`: a is divisible by b (or b divides a) denoted by $b | a$  \n",
    "if there is an integer k such that $a = b \\times k$\n",
    "Intuitive sense of this definition is following:\n",
    "1. Suppose we have a objects\n",
    "2. We would like to split them into groups of size b\n",
    "3. This is possible if a is divisible by b\n",
    "4. k is the resulting number of groups\n",
    "\n",
    "#### Example:\n",
    "- a = 15 is divisible by b = 3, bcs we can pick k = 5:  \n",
    "a = 15 = 3 x 5 = b x k\n",
    "- Note: based on formal notion of divisibility in Number Theory we do not forbid divisibility by 0! And it turns out that 0 (unlike any other integer number) is divisible by 0.\n",
    "\n",
    "#### Properties\n",
    "- Why do we care about formal definitions if everything is trivial with specific numbers?\n",
    "- Formal definitions allow to prove general properties:  \n",
    "`Lemma`: if $c$ divides $a$ and $c$ divides $b$, then $c$ divides $a \\pm b$\n",
    "\n",
    "#### Problem\n",
    "Suppose b | a. Is it true that b|3a? (| - \"such that\")\n",
    "- Yes, this is true by definition (k is simply multiplied by 3)\n"
   ]
  },
  {
   "cell_type": "markdown",
   "metadata": {},
   "source": [
    "### Quiz. Divisibility\n",
    "1. Which of the following numbers divides 0? Use our formal notion of divisibility to answer this question?\n",
    "A: 0, 2, 3, 1, -1;  \n",
    "By definition a number a divides 0 if there is k such that $0=a\\times k$. So each integer number aa divides 0: just pick \\(\\k=0).\n",
    "\n",
    "\n",
    "2. Which of the following numbers are divisible by 0? Use our formal notion of divisibility to answer this question.\n",
    "A: 0;  \n",
    "By definition 00 is divisible by 00 if there is an integer kk such that 0=k\\times 00=k×0. Clearly, any kk would satisfy the equation."
   ]
  },
  {
   "cell_type": "markdown",
   "metadata": {},
   "source": [
    "### External Tool. Take the Last Rock\n",
    "\n",
    "http://dm.compsciclub.ru/app/quiz-take-the-last-rock\n",
    "\n",
    "idea: avoid n divisible by 3 at any cost!  \n",
    "If you number of rocks is divisible by 3 and it is your move -> you lose!  \n",
    "Give opponent only stones divisible by 3."
   ]
  },
  {
   "cell_type": "markdown",
   "metadata": {},
   "source": [
    "### Remainders\n",
    "\n",
    "- Division over integers is not always possible\n",
    "- But we can generalize it\n",
    "- Remainders should always be positive (-33 % 7 == 2); -33 = 7 x -5 + r; r = 2 \n",
    "\n",
    "`Division with remainder`:  \n",
    "Suppose b is a positive integer. The result of the division of a by b with a remainder is a pair of integers, q called quotient and r called a remainder such that:  \n",
    "$ a = q \\times b + r $  \n",
    "and  \n",
    "0<= r < b\n",
    "\n",
    "#### Example\n",
    "\n",
    "a = 15, b = 4, Then 15 = 3 x 4 + 3 and q=3, r=3\n",
    "\n",
    "#### Division with Remainders\n",
    "\n",
    "a = q x b + r and 0 <= r < b\n",
    "- Why such g and r exist?\n",
    "- This is simple: just form groups of a objects one by one until we are left with the amount that is not enough for the new group. The number of groups is q and the number of remaining objects is r\n",
    "- More formally: substract b from a recursively until the result is less than b; the result is the remainder r and the number of substractions is q\n",
    "- What if a is negative? Just add b instead of substraction\n",
    "\n",
    "#### Connection to Divisibility\n",
    "`Lemma` : integers $a_1$ and $a_2$ have the same remainder  \n",
    "when divided by b if $a_1 - a_2$ is divisible by b\n",
    "- indeed, suppose $a_1$ and $a_2$ have the same remainder r:  \n",
    "$a_1 = q_1 \\times b + r$  \n",
    "$a_2 = q_2 \\times b + r$\n",
    "\n",
    "- then $a_1 - a_2 = q_1 \\times b - q_2 \\times b = (q_1 - q_2) \\times b$ and $b | (a_1 - a_2) $\n",
    "\n",
    "- In the other direction suppose $b | (a_1 - a_2)$\n",
    "- Then $a_1 - a_2 = k \\times b$\n",
    "- $a_2$ has some remainder when divided by b::\n",
    "$a_2 = q_1 \\times b + r, for 0 <= r < b$\n",
    "- Then $a_1 = a_2 + k \\times b = (q_1 + k) \\times b + r$ and $a_1$ has the same remainder"
   ]
  },
  {
   "cell_type": "markdown",
   "metadata": {},
   "source": [
    "### Note. Python code for remainders"
   ]
  },
  {
   "cell_type": "code",
   "execution_count": 3,
   "metadata": {},
   "outputs": [
    {
     "name": "stdout",
     "output_type": "stream",
     "text": [
      "2\n",
      "-5\n"
     ]
    }
   ],
   "source": [
    "a=-33\n",
    "print(a%7)\n",
    "print(a//7)"
   ]
  },
  {
   "cell_type": "markdown",
   "metadata": {},
   "source": [
    "### Practice quiz. Four Numbers\n",
    "Q: Is it true that for any four integers a, b, c, d there are two of them whose difference is divisible by 3?  \n",
    "A: Yes, there are only three possible remainders when dividing by 3. So, among four integers a, b, c, d there are two with the same remainder when divided by 3. The difference of these two numbers is always divisible by 3. See the next video for the discussio"
   ]
  },
  {
   "cell_type": "markdown",
   "metadata": {},
   "source": [
    "### Practice quiz. Division by 101\n",
    "Q:How many 3-digit non-negative numbers are there that have remainder 7 when divided by 101? Here we assume that 1-digit and 2-digit numbers are also 3-digit, they just start with 0.\n",
    "\n",
    "A: 10, all numbers aa having the remainder 7 when divided by 101 have the form $a=7+q\\times 101$ for integer q. The number a given by this expression is non-negative and 3-digit for q between 0 and 9, inclusive. (When q = 7: 007 % 101 = 7)"
   ]
  },
  {
   "cell_type": "markdown",
   "metadata": {},
   "source": [
    "### Quiz. Properties of Divisibility\n",
    "Q: Is it true that among any 4 consecutive integer numbers there is one that is divisible by 4?  \n",
    "A: This is correct! Indeed, if we fix some remainder after division by 4 then (as we discussed in one of the videos) every fourth number will have this remainder. So among any four consecutive numbers there are all four possible remainders presented. So one of the numbers has remainder 0 and thus is divisible by 4.\n",
    "\n",
    "Q: Is it true that among any 4 consecutive integer numbers there is one that is divisible by 5?  \n",
    "A: This is correct! Indeed, we can just consider numbers 1, 2, 3 and 4. None of them is divisible by 5."
   ]
  },
  {
   "cell_type": "markdown",
   "metadata": {},
   "source": [
    "### Divisibility Tests\n",
    "\n",
    "#### Division by 10\n",
    "\n",
    "##### Problem\n",
    "What is the remainder and the quotient of 3756 when divided by 10?\n",
    "- Decimal system is convenient here\n",
    "- 3756 = 3750 + 6 = 375 x 10 + 6\n",
    "- remainder is 6 quotient is 375\n",
    "\n",
    "##### Lemma\n",
    "\n",
    "Suppose we divide a by 10 with a remainder. Then the remainder is the last digit of a and the quotient is the number formed by all digits of a except the last one. In particular we have the following\n",
    "\n",
    "##### Corollary\n",
    "\n",
    "An integer a is divisible by 10 if its last digit is 0\n",
    "- Indeed, 10 | a if the remainder is 0\n",
    "- And the remainder is the last digit\n",
    "\n",
    "#### Divisibility by 5\n",
    "\n",
    "##### Problem\n",
    "Is 7347 divisible by 5?\n",
    "- Let's use the same trick\n",
    "- 7347 = 7340 + 7 = 734 x 10 + 7 = (734 x 2) x 5 + 5 + 2\n",
    "\n",
    "##### Lemma\n",
    "An integer a is divisible by 5 if its last digit is 0 or 5\n",
    "- Indeed, denote the last digit of a by b\n",
    "- Then a - b has the last digit 0\n",
    "- Thus a - b is divisible by 5\n",
    "- As we have shown this means that a and b have the same reminder when divided by 5\n",
    "- b has reminder 0 only if it is 0 or 5\n",
    "\n",
    "#### Divisibility by 2\n",
    "\n",
    "##### Lemma\n",
    "An integer a is divisible by 2 if its last digit is 0,2,4,6 or 8\n",
    "- The proof is completely the same \n",
    "- Denote the lasе digit of a by b\n",
    "- Then a - b has the last digit 0 and is divisible by 2"
   ]
  },
  {
   "cell_type": "markdown",
   "metadata": {},
   "source": [
    "#### Summary\n",
    "- Number theory studies integer numbers\n",
    "- Important for fast numerical computations\n",
    "- Vital for cryptography\n",
    "- We discussed basic notions: divisibility and remainders \n",
    "- We will use them to build more advanced theory"
   ]
  },
  {
   "cell_type": "markdown",
   "metadata": {},
   "source": [
    "## 1.2 Division by 2"
   ]
  },
  {
   "cell_type": "markdown",
   "metadata": {},
   "source": [
    "### Division by 2\n",
    "\n",
    "- Consider division of integers by 2\n",
    "- There are 2 possible remainders: 0 and 1\n",
    "- If the remainder of a is 0, then a is divisible by 2\n",
    "- These are even number\n",
    "- If the remainder of a is 1, a is not divisible by 2\n",
    "- These are odd numbers\n",
    "\n",
    "### Sums of Even and Odd numbers \n",
    "\n",
    "`Splitting in pairs`. Suppose there are two classes with a and b students respectively. We unite the classes and would like to split all students into pairs to work on a project. Is it possible if a is even and b is odd? What if both a and b are even? What if both a and b are odd?\n",
    "\n",
    "- If a is even and b is odd we can split in paris all students in the first class and all students except one in the second class (no)\n",
    "- If both a and b are even, we can just split students in pairs in both classes separately (yes)\n",
    "- If both a and b are odd, we can split into pairs all students except one in the first class and all student except one in the second class (yes)\n",
    "\n",
    "- So there is one student left and the answer is no\n",
    "\n",
    "`Remainder of a sum`. Suppose we know the remainders of a and b when divided by 2. Can we deduce the remainder of a + b? Yes\n",
    "- If both a and b are even they have the form $2 \\times q_1$ and $2 \\times q_2$"
   ]
  },
  {
   "cell_type": "code",
   "execution_count": null,
   "metadata": {},
   "outputs": [],
   "source": []
  }
 ],
 "metadata": {
  "kernelspec": {
   "display_name": "Python 3",
   "language": "python",
   "name": "python3"
  },
  "language_info": {
   "codemirror_mode": {
    "name": "ipython",
    "version": 3
   },
   "file_extension": ".py",
   "mimetype": "text/x-python",
   "name": "python",
   "nbconvert_exporter": "python",
   "pygments_lexer": "ipython3",
   "version": "3.6.10"
  }
 },
 "nbformat": 4,
 "nbformat_minor": 2
}
