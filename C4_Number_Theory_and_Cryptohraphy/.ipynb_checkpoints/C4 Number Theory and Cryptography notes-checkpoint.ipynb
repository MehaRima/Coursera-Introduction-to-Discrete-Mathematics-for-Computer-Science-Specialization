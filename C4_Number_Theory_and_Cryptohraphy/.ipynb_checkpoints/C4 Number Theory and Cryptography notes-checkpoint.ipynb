{
 "cells": [
  {
   "cell_type": "markdown",
   "metadata": {},
   "source": [
    "# W1. Modular Arithmetic\n"
   ]
  },
  {
   "cell_type": "markdown",
   "metadata": {},
   "source": [
    "## 1.1 Divisibility"
   ]
  },
  {
   "cell_type": "markdown",
   "metadata": {},
   "source": [
    "### Numbers"
   ]
  },
  {
   "cell_type": "markdown",
   "metadata": {},
   "source": [
    "- We are used to number and use them constantly\n",
    "- It all started with counting: 1, 2, 3 ...\n",
    "\n",
    "Inverse operations are also possible:\n",
    "- substraction is inverse to addition\n",
    "- division is inverse to multiplication\n",
    "\n",
    "#### Integer Numbers\n",
    "Q: Substraction is not always possible, for example 2 - 3 = ?  \n",
    "A: Solution: negative numbers and zero\n",
    "- Now we have ints -3, -2, ... 2, 3 and substraction is possible\n",
    "- multiplication can be also extended to negative numbers  \n",
    "\n",
    "Q: Division is not always possible: 3/2 = ?  \n",
    "A: Solution: rational numbers\n",
    "\n",
    "#### Number Theory\n",
    "- Number theory: studies integers and operations on them\n",
    "- Basics of number theory have natural applications:\n",
    "- Advanced number theory had not\n",
    "- (Stated explicitly by top number theorists Godfrey Hardy, Leonard Dickson)\n",
    "\n",
    "\n",
    "- **but**, virtually every theorem in elementary number theory arises in a natural, motivated way in connection with the problem of making computers do high-speed numerical calculations (C) Donald Knuth\n",
    "- Hovewer even more number theory is vital for the modern cryptography\n",
    "- Through cryptography it dramatically affects our life: email, messengers, online transactions, Internet as a whole, etc."
   ]
  },
  {
   "cell_type": "markdown",
   "metadata": {},
   "source": [
    "### Divisibility"
   ]
  },
  {
   "cell_type": "markdown",
   "metadata": {},
   "source": [
    "- Division is not always possible over integers\n",
    "- Its needed to identify the cases when it is possible\n",
    "\n",
    "Q: What does it mean that number a is divisible by b?  \n",
    "A (Naive): Consider a rational number $\\frac {a}{b}$; if it is integer, then a is divisible by b.\n",
    "\n",
    "However, Naive answer reduces the question to the more complex one\n",
    "\n",
    "$\\frac {a}{b} == int$ means that the denominator cancels out =>  \n",
    "it can be represented as a product of two integers:  \n",
    "b and other integer k: $ k: a = b \\times k$  \n",
    "then we have $\\frac {a}{b} = \\frac{b\\times k}{b} = k$\n",
    "\n",
    "`Divisibility`: a is divisible by b (or b divides a) denoted by $b | a$  \n",
    "if there is an integer k such that $a = b \\times k$\n",
    "Intuitive sense of this definition is following:\n",
    "1. Suppose we have a objects\n",
    "2. We would like to split them into groups of size b\n",
    "3. This is possible if a is divisible by b\n",
    "4. k is the resulting number of groups\n",
    "\n",
    "#### Example:\n",
    "- a = 15 is divisible by b = 3, bcs we can pick k = 5:  \n",
    "a = 15 = 3 x 5 = b x k\n",
    "- Note: based on formal notion of divisibility in Number Theory we do not forbid divisibility by 0! And it turns out that 0 (unlike any other integer number) is divisible by 0.\n",
    "\n",
    "#### Properties\n",
    "- Why do we care about formal definitions if everything is trivial with specific numbers?\n",
    "- Formal definitions allow to prove general properties:  \n",
    "`Lemma`: if $c$ divides $a$ and $c$ divides $b$, then $c$ divides $a \\pm b$\n",
    "\n",
    "#### Problem\n",
    "Suppose b | a. Is it true that b|3a? (| - \"such that\")\n",
    "- Yes, this is true by definition (k is simply multiplied by 3)\n"
   ]
  },
  {
   "cell_type": "markdown",
   "metadata": {},
   "source": [
    "### Quiz. Divisibility\n",
    "1. Which of the following numbers divides 0? Use our formal notion of divisibility to answer this question?\n",
    "A: 0, 2, 3, 1, -1;  \n",
    "By definition a number a divides 0 if there is k such that $0=a\\times k$. So each integer number aa divides 0: just pick \\(\\k=0).\n",
    "\n",
    "\n",
    "2. Which of the following numbers are divisible by 0? Use our formal notion of divisibility to answer this question.\n",
    "A: 0;  \n",
    "By definition 00 is divisible by 00 if there is an integer kk such that 0=k\\times 00=k×0. Clearly, any kk would satisfy the equation."
   ]
  },
  {
   "cell_type": "markdown",
   "metadata": {},
   "source": [
    "### External Tool. Take the Last Rock\n",
    "\n",
    "http://dm.compsciclub.ru/app/quiz-take-the-last-rock\n",
    "\n",
    "idea: avoid n divisible by 3 at any cost!  \n",
    "If you number of rocks is divisible by 3 and it is your move -> you lose!  \n",
    "Give opponent only stones divisible by 3."
   ]
  },
  {
   "cell_type": "markdown",
   "metadata": {},
   "source": [
    "### Remainders\n",
    "\n",
    "- Division over integers is not always possible\n",
    "- But we can generalize it\n",
    "- Remainders should always be positive (-33 % 7 == 2); -33 = 7 x -5 + r; r = 2 \n",
    "\n",
    "`Division with remainder`:  \n",
    "Suppose b is a positive integer. The result of the division of a by b with a remainder is a pair of integers, q called quotient and r called a remainder such that:  \n",
    "$ a = q \\times b + r $  \n",
    "and  \n",
    "0<= r < b\n",
    "\n",
    "#### Example\n",
    "\n",
    "a = 15, b = 4, Then 15 = 3 x 4 + 3 and q=3, r=3\n",
    "\n",
    "#### Division with Remainders\n",
    "\n",
    "a = q x b + r and 0 <= r < b\n",
    "- Why such g and r exist?\n",
    "- This is simple: just form groups of a objects one by one until we are left with the amount that is not enough for the new group. The number of groups is q and the number of remaining objects is r\n",
    "- More formally: substract b from a recursively until the result is less than b; the result is the remainder r and the number of substractions is q\n",
    "- What if a is negative? Just add b instead of substraction\n",
    "\n",
    "#### Connection to Divisibility\n",
    "`Lemma` : integers $a_1$ and $a_2$ have the same remainder  \n",
    "when divided by b if $a_1 - a_2$ is divisible by b\n",
    "- indeed, suppose $a_1$ and $a_2$ have the same remainder r:  \n",
    "$a_1 = q_1 \\times b + r$  \n",
    "$a_2 = q_2 \\times b + r$\n",
    "\n",
    "- then $a_1 - a_2 = q_1 \\times b - q_2 \\times b = (q_1 - q_2) \\times b$ and $b | (a_1 - a_2) $\n",
    "\n",
    "- In the other direction suppose $b | (a_1 - a_2)$\n",
    "- Then $a_1 - a_2 = k \\times b$\n",
    "- $a_2$ has some remainder when divided by b::\n",
    "$a_2 = q_1 \\times b + r, for 0 <= r < b$\n",
    "- Then $a_1 = a_2 + k \\times b = (q_1 + k) \\times b + r$ and $a_1$ has the same remainder"
   ]
  },
  {
   "cell_type": "markdown",
   "metadata": {},
   "source": [
    "### Note. Python code for remainders"
   ]
  },
  {
   "cell_type": "code",
   "execution_count": 1,
   "metadata": {},
   "outputs": [
    {
     "name": "stdout",
     "output_type": "stream",
     "text": [
      "2\n",
      "-5\n"
     ]
    }
   ],
   "source": [
    "a=-33\n",
    "print(a%7)\n",
    "print(a//7)"
   ]
  },
  {
   "cell_type": "markdown",
   "metadata": {},
   "source": [
    "### Practice quiz. Four Numbers\n",
    "Q: Is it true that for any four integers a, b, c, d there are two of them whose difference is divisible by 3?  \n",
    "A: Yes, there are only three possible remainders when dividing by 3. So, among four integers a, b, c, d there are two with the same remainder when divided by 3. The difference of these two numbers is always divisible by 3. See the next video for the discussio"
   ]
  },
  {
   "cell_type": "markdown",
   "metadata": {},
   "source": [
    "### Practice quiz. Division by 101\n",
    "Q:How many 3-digit non-negative numbers are there that have remainder 7 when divided by 101? Here we assume that 1-digit and 2-digit numbers are also 3-digit, they just start with 0.\n",
    "\n",
    "A: 10, all numbers aa having the remainder 7 when divided by 101 have the form $a=7+q\\times 101$ for integer q. The number a given by this expression is non-negative and 3-digit for q between 0 and 9, inclusive. (When q = 7: 007 % 101 = 7)"
   ]
  },
  {
   "cell_type": "markdown",
   "metadata": {},
   "source": [
    "### Quiz. Properties of Divisibility\n",
    "Q: Is it true that among any 4 consecutive integer numbers there is one that is divisible by 4?  \n",
    "A: This is correct! Indeed, if we fix some remainder after division by 4 then (as we discussed in one of the videos) every fourth number will have this remainder. So among any four consecutive numbers there are all four possible remainders presented. So one of the numbers has remainder 0 and thus is divisible by 4.\n",
    "\n",
    "Q: Is it true that among any 4 consecutive integer numbers there is one that is divisible by 5?  \n",
    "A: This is correct! Indeed, we can just consider numbers 1, 2, 3 and 4. None of them is divisible by 5."
   ]
  },
  {
   "cell_type": "markdown",
   "metadata": {},
   "source": [
    "### Divisibility Tests\n",
    "\n",
    "#### Division by 10\n",
    "\n",
    "##### Problem\n",
    "What is the remainder and the quotient of 3756 when divided by 10?\n",
    "- Decimal system is convenient here\n",
    "- 3756 = 3750 + 6 = 375 x 10 + 6\n",
    "- remainder is 6 quotient is 375\n",
    "\n",
    "##### Lemma\n",
    "\n",
    "Suppose we divide a by 10 with a remainder. Then the remainder is the last digit of a and the quotient is the number formed by all digits of a except the last one. In particular we have the following\n",
    "\n",
    "##### Corollary\n",
    "\n",
    "An integer a is divisible by 10 if its last digit is 0\n",
    "- Indeed, 10 | a if the remainder is 0\n",
    "- And the remainder is the last digit\n",
    "\n",
    "#### Divisibility by 5\n",
    "\n",
    "##### Problem\n",
    "Is 7347 divisible by 5?\n",
    "- Let's use the same trick\n",
    "- 7347 = 7340 + 7 = 734 x 10 + 7 = (734 x 2) x 5 + 5 + 2\n",
    "\n",
    "##### Lemma\n",
    "An integer a is divisible by 5 if its last digit is 0 or 5\n",
    "- Indeed, denote the last digit of a by b\n",
    "- Then a - b has the last digit 0\n",
    "- Thus a - b is divisible by 5\n",
    "- As we have shown this means that a and b have the same reminder when divided by 5\n",
    "- b has reminder 0 only if it is 0 or 5\n",
    "\n",
    "#### Divisibility by 2\n",
    "\n",
    "##### Lemma\n",
    "An integer a is divisible by 2 if its last digit is 0,2,4,6 or 8\n",
    "- The proof is completely the same \n",
    "- Denote the lasе digit of a by b\n",
    "- Then a - b has the last digit 0 and is divisible by 2"
   ]
  },
  {
   "cell_type": "markdown",
   "metadata": {},
   "source": [
    "#### Summary\n",
    "- Number theory studies integer numbers\n",
    "- Important for fast numerical computations\n",
    "- Vital for cryptography\n",
    "- We discussed basic notions: divisibility and remainders \n",
    "- We will use them to build more advanced theory"
   ]
  },
  {
   "cell_type": "markdown",
   "metadata": {},
   "source": [
    "## 1.2 Division by 2"
   ]
  },
  {
   "cell_type": "markdown",
   "metadata": {},
   "source": [
    "### Division by 2\n",
    "\n",
    "- Consider division of integers by 2\n",
    "- There are 2 possible remainders: 0 and 1\n",
    "- If the remainder of a is 0, then a is divisible by 2\n",
    "- These are even number\n",
    "- If the remainder of a is 1, a is not divisible by 2\n",
    "- These are odd numbers\n",
    "\n",
    "### Sums of Even and Odd numbers \n",
    "\n",
    "`Splitting in pairs`. Suppose there are two classes with a and b students respectively. We unite the classes and would like to split all students into pairs to work on a project. Is it possible if a is even and b is odd? What if both a and b are even? What if both a and b are odd?\n",
    "\n",
    "- If a is even and b is odd we can split in paris all students in the first class and all students except one in the second class (no)\n",
    "- If both a and b are even, we can just split students in pairs in both classes separately (yes)\n",
    "- If both a and b are odd, we can split into pairs all students except one in the first class and all student except one in the second class (yes)\n",
    "\n",
    "- So there is one student left and the answer is no\n",
    "\n",
    "`Remainder of a sum`. Suppose we know the remainders of a and b when divided by 2. Can we deduce the remainder of a + b? Yes\n",
    "- If both a and b are even: $2 \\times q_1$ and $2 \\times q_2$, sum is $2 \\times (q_1 + q_2)$ is even\n",
    "- If a even and is odd: $2 \\times q_1$ and $2 \\times q_2 + 1$, sum is $2 \\times (q_1 + q_2) + 1$ is odd\n",
    "- If both a and b are odd: $2 \\times q_1 + 1$ and $2 \\times q_2 + 1$, sum $2 \\times (q_1 + q_2 + 1)$ is even\n",
    "\n",
    "`Remainder of an opposite`. Suppose we know the remainder of a when divided by 2. Can we deduce the remainder of -a? Yes, it is the same (just negative).\n",
    "\n",
    "`Remainder of a subtraction`. The remainder of a-b is the same as the remainder of a+b when divided by 2? Yes\n",
    "\n",
    "`Remainder of a product`. Suppose we know the remainders of a and b when divided by 2. Can we deduce the remainder of a x b? Yes\n",
    "\n",
    "Problem. What is the remainder of $374 \\times (419 + 267 \\times 38) - 625$ when divided by 2?\n",
    "- Substitute all numbers by remainders: $0 \\times (1 + 1 \\times 0) - 1$ -> $1$\n",
    "\n",
    "### Binary System\n",
    "\n",
    "#### Consider decimal system first:\n",
    "- What is the decimal system?\n",
    "- We represent numbers by sequences of digits\n",
    "- Which number is represented by 3926\n",
    "- The number writtern here is  \n",
    "$3926 = 3000 + 900 + 20 + 6 = 3 \\times 10^3 + 9 \\times 10^2 + 2 \\times 10^1 + 6 \\times 10^0$\n",
    "- In general digits are multiplied by powers of 10\n",
    "- Note that each non-negative integer has a unique representation\n",
    "\n",
    "#### Now, lets consider binary system:\n",
    "- The similar operation to the operation shown above: lets make the same trick with powers of 2\n",
    "- There are only 2 bits 0 and 1 now instead of ten digits\n",
    "- An example of binary representation: 101101\n",
    "- The number can be written as:  \n",
    "$101101 = 1 \\times 2^5 + 0 \\times 2^4 + 1 \\times 2^3 + 1 \\times 2^2 + 0 \\times 2^1 + 1 \\times 2^0 = 2^5 + 2^3 + 2^2 + 2^0 = 32 + 8 + 4 + 1 = 45$\n",
    "- Binary system is important since computer uses it\n",
    "\n",
    "#### Binary system and remainders\n",
    "\n",
    "`Lemma`\n",
    "Suppose we divide a by 2 with a remainder. Then the remainder is the last bit of binary representation of a and the quotient is the number formaed by all bits of the binary representation of a except the last one.\n",
    "- The proof is the sames as for the decimal system\n",
    "- For simplicity consider some specific number, say, 11101 in binary\n",
    "$11101 = 1 \\times 2^4 + 1 \\times 2^3 + 1 \\times 2^2 + 0 \\times 2^1 + 1 \\times 2^0 = (2^3 + 2^2 + 2^1) \\times 2 + 1$\n",
    "- So, the remainder is 1 and quotient is 1110 in binary\n"
   ]
  },
  {
   "cell_type": "code",
   "execution_count": 2,
   "metadata": {},
   "outputs": [
    {
     "name": "stdout",
     "output_type": "stream",
     "text": [
      "14\n"
     ]
    }
   ],
   "source": [
    "'''Note, that there is binary shift operation in Python \n",
    "that removes the last bit from binary representation of a number:'''\n",
    "\n",
    "\n",
    "'''By our Lemma for non-negative numbers this operation computes \n",
    "exactly the quotient of the number when divided by 2'''\n",
    "\n",
    "print(29 >> 1)"
   ]
  },
  {
   "cell_type": "markdown",
   "metadata": {},
   "source": [
    "- Why binary system works? \n",
    "- Why every integer is representable? \n",
    "- Why the representation is unique?"
   ]
  },
  {
   "cell_type": "markdown",
   "metadata": {},
   "source": [
    "#### Binary System and Logarithm\n",
    "- How many bits are needed to represent a given number a?\n",
    "- Observe that to represent $2^n$ we need $n + 1$ bits: $2^4$ is $10000$\n",
    "- And $2^n-1$ is the smallest number that requires $n$ bits: $2^4 - 1 = 2^3 + 2^2 + 2^1 + 1$ is $1111$\n",
    "- The number of bits that is needed to represent a is determined the largest n such that $2^n <= a$: it is equal to n+1 \n",
    "- Recall that for real number x > 0 by $log_{2}x$ is deonted the number y such that $2^y = x$\n",
    "- Logarithm is the inverse function to exponentiation: $log_{2}2^{y} = y$\n",
    "- In particular, $log_{2}2^{n} = n$\n",
    "- Binary logarithm has a clear meaning in terms of binary representation\n",
    "- Lets move to lemma\n",
    "\n",
    "#### Lemma\n",
    "The number of bits needed to represent an integer a in binary representation is equal to $\\lfloor log_2 a \\rfloor + 1$\n",
    "- By $\\lfloor x \\rfloor$ we denote the largest integer that is less or equal to (possibly non-integer) $x$\n",
    "- Lemma is True bcs:\n",
    "    - Recall that the number of bits in binary representation of $a$ is $n + 1$, where $n$ is the largest number such that $2^n <= a$\n",
    "    - Applying logarithm to both sides of inequality we obtain that $n$ is the largest number such that $n <= log_2 a$\n",
    "    \n",
    "###"
   ]
  },
  {
   "cell_type": "markdown",
   "metadata": {},
   "source": [
    "## 1.3 Modular Arithmetic\n",
    "\n",
    "#### Remainders\n",
    "Problem: what is the remainder of $17 \\times (12 \\times 19 + 5) - 23$ when divided by 3? To answer that question Congruence relations are intoruced"
   ]
  },
  {
   "cell_type": "markdown",
   "metadata": {},
   "source": [
    "#### Congruence Relations\n",
    "`Definition`\n",
    "We say that two numbers $a$ and $b$ are congruent modulo m if they have the same remainder when divided by $m$.  \n",
    "We write $a \\equiv b$ (mod  m)\n",
    "- As we discussed, equivalently, $a \\equiv b$ (mod m) $\\iff$(if and only if) $a-b$ is divisible by $m$\n",
    "- Every number $a$ is congruent modulo m to all numbers $a + k \\times m$ for all integers $k$\n",
    "- In particular, if $r$ is a remainder of $a$ when divided by $m$, then $a\\equiv r$ (mod m)\n",
    "\n",
    "Congruence relations has the following properties:  \n",
    "\n",
    "`Addition of constant`  \n",
    "If $a \\equiv b$ (mod m) then $a + c \\equiv b + c$ (mod m) for any $c$:\n",
    "- If we add the same number to 2 congruent numbers the results will also be congruent\n",
    "- Indeed, congruence of $a$ and $b$ modulo m means that $m | (a-b)$\n",
    "- Note that $ (a+c) - (b+c) = a - b$, so it is also divisible by $m$\n",
    "\n",
    "`Addition`  \n",
    "if $a \\equiv b$ (mod m) and $c \\equiv d$ (mod m), then  \n",
    "$a+c \\equiv b+d$ (mod m)\n",
    "- That is, congruence is preserved under addition\n",
    "- The proof is following:  \n",
    "$a + c \\equiv a + d \\equiv b + d$ (mod m)\n",
    "\n",
    "Problem example:\n",
    "What is the remainder of \n",
    "14 + 41 + 20 + 13 + 29\n",
    "when divided by 4? \n",
    "- We can apply our results\n",
    "- We can find a remainder that is congruent to this sum:\n",
    "$14 + 41 + 20 + 13 + 29 \\equiv 2 + 1 + 0 + 1 + 1 \\equiv 5 \\equiv 1$ (mod 4)\n",
    "\n",
    "`Multiplication by a constant`  \n",
    "If $a \\equiv b$ (mod m) then $a \\times c \\equiv b \\times c$ (mod m) for any c\n",
    "- That is, if we multiply 2 congruent nums by the same num, the results will also be congruent\n",
    "- Indeed, congruence of $a$ and $b$ modulo $m$ means that $m|(a-b)$\n",
    "- But them $m | c \\times (a-b)$\n",
    "\n",
    "`Multiplication`  \n",
    "If $a \\equiv b $ (mod m) and $c \\equiv d$ (mod m), then $a \\times c \\equiv b \\times d$ (mod m)\n",
    "- That is, congruence is preserved under multiplication\n",
    "- The proof is just like for addition:  \n",
    "$a \\times c \\equiv a \\times d \\equiv b \\times d$ (mod m)\n",
    "- Note that we just use the previous property twice:  \n",
    "$a \\times c \\equiv a \\times d$ (mod m)  \n",
    "$a \\times d \\equiv b \\times d$ (mod m)  \n",
    "are just multiplication of congruent numbers by constants\n",
    "\n",
    "Lets check the problem again:\n",
    "Remainder of $17 \\times (12 \\times 19 + 5) - 23$ (mod 3)?  \n",
    "Is equivalent to:\n",
    "$2 \\times (0 \\times 1 + 2) - 2 = 2 \\times 2 - 2 = 2$"
   ]
  },
  {
   "cell_type": "markdown",
   "metadata": {},
   "source": [
    "### Quiz. Modular Arithmetic\n",
    "1. What is the remainder of $(77 + 95 \\times 79) \\times 82$ (mod 3)?   \n",
    "$(77 + 95 \\times 79) \\times 82$ (mod 3) = $(2 + 2 \\times 1) \\times 1 = 4$ (mod 3) = 1\n",
    "\n",
    "Correct\n",
    "This is correct!  \n",
    "Indeed, we can substitute each number by a congruent modulo 3 and the remainder will remain the same.   \n",
    "Substituting each number by 0, 1 or −1 we get  \n",
    "(−1+(−1)×1)×1≡(−2)×1≡1(mod3).  \n",
    "2. What is the remainder of $(34 - 14 \\times 25) \\times (23 \\times 18 + 87)$ mod 5?  \n",
    "$(34 - 14 \\times 25) \\times (23 \\times 18 + 87)$ (mod 5) =  \n",
    "$(4 - 4 \\times 0) \\times (3 \\times 3 + 2)$ (mod 5) = $4 \\times 11$ (mod 5) = 4\n",
    "\n",
    "Correct\n",
    "This is correct!  \n",
    "Indeed, we can substitute each number by a congruent modulo 5 and the remainder will remain the same.  \n",
    "Substituting each number by 0, 1, 2, −1 or -2 we get  \n",
    "(−1−(−1)×0)×((−2)×(−2)+2)≡(−1)×(6)≡−6≡4(mod5)."
   ]
  },
  {
   "cell_type": "markdown",
   "metadata": {},
   "source": [
    "### Applications\n",
    "`Problem`  \n",
    "What are the last 2 digits of the number $99^{99}$?\n",
    "- The number itself is huge; it would be nice not to compute i\n",
    "- We can use remainders\n",
    "- The number consisting of last 2 digits from a remainder after the division by 100\n",
    "- So we are interested in the remainder after the division by 100\n",
    "- Consider $99^{99}$ modulo 100\n",
    "- Note that $99 \\equiv -1$ (mod 100)\n",
    "- So $ 99^{99} \\equiv (-1)^{99} \\equiv -1 \\equiv 99 $ (mod 100)\n",
    "- Remainder is 99\n",
    "\n",
    "`Problem`  \n",
    "Is the 3475 divisible by 3?\n",
    "- We can compute the remainder after the division by 3: the number is divisible iff the remainder is 0\n",
    "- But how to compute the remainder?\n",
    "- 3475 = 3000 + 400 + 70 + 5 = $ 3 \\times 10^3 + 4 \\times 10^2 + 7 \\times 10 + 5$\n",
    "- Note that $10 \\equiv 1$ (mod 3)\n",
    "- Thus $10^k \\equiv 1^k \\equiv 1$ (mod 3) \n",
    "- So we have $3 + 4 + 7 +5 \\equiv 19 \\equiv 1$ (mod 3)\n",
    "- So 3475 is not divisible by 3\n",
    "- Observe the following intermediate step in our solution:\n",
    "$3475 \\equiv 3 \\times 10^3 + 4 \\times 10^2 + 7 \\times 10 + 5 \\equiv 3 + 4 + 7 + 5$ \n",
    "- We have that $10^k \\equiv 1$ (mod 3) for all k -> this step works for all numbers!\n",
    "\n",
    "`Divisibility by 3`  \n",
    "An integer a is congruent modulo 3 to the sum of its digits in particular, s is divisible by 3 iff the sum of its digits is divisible by 3"
   ]
  },
  {
   "cell_type": "markdown",
   "metadata": {},
   "source": [
    "### Remainders of Large Numbers\n",
    "1. What is the remainder of the number 762341 when divided by 3?  \n",
    "$762341$ (mod 3) $\\equiv 7 + 6 + 2 + 3 + 4 + 1$ (mod 3) $\\equiv 23$ (mod 3) = 2\n",
    "\n",
    "\n",
    "2. What is the remainder of the number $12^{100}$ when divided by 11?  \n",
    "$12^{100}$ (mod 11) $\\equiv 1^{100}$ (mod 11) = 1\n",
    "\n",
    "3.What is the remainder of the number $4632^{10}$ when divided by 10?\n",
    "$4632^{10}$ (mod 10) $\\equiv 2^{10}$ (mod 10) $\\equiv 32^2$ (mod 10) $\\equiv 2^2$ (mod 10) = 4"
   ]
  },
  {
   "cell_type": "markdown",
   "metadata": {},
   "source": [
    "### Modular Subtraction and Division\n",
    "- Recall that any number is congruent to its remainder modulo $m$\n",
    "- We can represent all numbers by their remainders\n",
    "- Arithmetic operations preserve congruence\n",
    "- We can create arithmetic operation tables for remainders\n",
    "- Consider addition modulo 7\n",
    "- *Modular addition/multiplication tables\n",
    "- Using these tables we can perform modular computations:\n",
    "    - Substitute all numbers in an arithmetic expression by their remainders and apply operations according to the tables\n",
    "    - Tables are also convenient to observe properties of operations\n",
    "    \n",
    "Suppose we have two numbers $a$ and $b$. Is there $x$ such that $a + x \\equiv b$ (mod 7)?\n",
    "- Yes, each row contains all possible remainders\n",
    "- $a$ is the row and $b$ is the target value; $x$ is a column\n",
    "- Given $a$ and $b$ consider $x$ such that $a + x \\equiv b$ (mod 7)\n",
    "- $x$ exists for any module m\n",
    "- $x$ plays the role of modular b - a\n",
    "- Existence of x is natural: we can just pick b - a as an integer and consider the corresponding remainder\n",
    "\n",
    "\n",
    "Suppose we have two nonzero numbers $a$ and $b$. Is there $x$ such that $a \\times x \\equiv b$ (mod 7)?  \n",
    "- Each nonzero row contains all possible remainders!\n",
    "- $a$ is the row and $b$ is the target value; x is a column\n",
    "- Given $a != 0$ and $b$ consider $x$ such that $a \\times x \\equiv b$ (mod 7)\n",
    "- Lets consider multiplication modulo 6:\n",
    "    - There is no x such that $3 \\times x \\equiv 1$ (mod 6)\n",
    "    \n",
    "### Modular Division Quiz.\n",
    "\n",
    "- Multiplication table for remainders modulo 7 question 1\n",
    "- Multiplication table for remainders modulo 7 question 2  \n",
    "Nothing special"
   ]
  },
  {
   "cell_type": "markdown",
   "metadata": {},
   "source": [
    "# W2. Euclids Algorithm\n",
    "\n",
    "## Euclids Algoritm\n",
    "\n",
    "### Greatest Common Divisor\n",
    "`Definition`  \n",
    "The greatest common divisor, gcd (a,b) of integers a and b (not both equal to zero) is the largest integer that divides both a and b\n",
    "\n",
    "`Examples`  \n",
    "gcd(24, 16) = 8,  \n",
    "gcd(9, 17) = 1,  \n",
    "gcd(239, 0) = 239\n",
    "\n",
    "`Conclusion`  \n",
    "We assume that a and b are non-negative\n",
    "\n",
    "#### First application: Computing Inverses\n",
    "Given integers $a$ and $n$ how to find an integer k such that  \n",
    "$ak \\equiv 1$ mod n?  \n",
    "Basic primitive in modern crypto protocols, used billions times per day\n",
    "\n",
    "#### Second application: computing fractions:\n",
    "$\\frac{31}{177} + \\frac{29}{59} = \\frac{31 \\times 59 + 177 \\times 29}{177 \\times 59} = \\frac{6952}{10443} = \\frac{2}{3}$"
   ]
  },
  {
   "cell_type": "code",
   "execution_count": 3,
   "metadata": {},
   "outputs": [
    {
     "name": "stdout",
     "output_type": "stream",
     "text": [
      "2/3\n"
     ]
    }
   ],
   "source": [
    "from fractions import Fraction\n",
    "print(Fraction(31,177) + Fraction(29, 59))"
   ]
  },
  {
   "cell_type": "markdown",
   "metadata": {},
   "source": [
    "#### Naive Algorithm\n",
    "To find the gcd, simply try all numbers and select the largest one"
   ]
  },
  {
   "cell_type": "code",
   "execution_count": 4,
   "metadata": {},
   "outputs": [
    {
     "name": "stdout",
     "output_type": "stream",
     "text": [
      "3.51 µs ± 74.7 ns per loop (mean ± std. dev. of 7 runs, 100000 loops each)\n"
     ]
    }
   ],
   "source": [
    "def gcd(a,b):\n",
    "    assert a >= 0 and b >= 0 and a + b > 0\n",
    "    \n",
    "    if a == 0 or b == 0:\n",
    "        return max(a, b)\n",
    "    \n",
    "    for d in range(min(a, b), 0, -1):\n",
    "        if a % d == 0 and b % d == 0:\n",
    "            return d\n",
    "        \n",
    "    return 1\n",
    "\n",
    "%timeit gcd(75,130)"
   ]
  },
  {
   "cell_type": "code",
   "execution_count": 5,
   "metadata": {},
   "outputs": [
    {
     "name": "stdout",
     "output_type": "stream",
     "text": [
      "1\n",
      "47.69600820541382\n"
     ]
    }
   ],
   "source": [
    "from time import time\n",
    "t1 = time()\n",
    "print(gcd(79093379, 184963952))\n",
    "print(time()-t1)"
   ]
  },
  {
   "cell_type": "markdown",
   "metadata": {},
   "source": [
    "### Greatest Common Divisor. Quiz\n",
    "(nothing special)"
   ]
  },
  {
   "cell_type": "markdown",
   "metadata": {},
   "source": [
    "### Euclids Algorithm\n",
    "\n",
    "#### Euclid's Lemma\n",
    "`Euclids Lemma`  \n",
    "$d$ divides $a$ and $b$, if and only if $d$ divides $a$ - $b$ and $b$.\n",
    "\n",
    "`Proof`  \n",
    "$\\implies$ if $a = dp$ and $b = dq$, then $a - b = d(p-q)$\n",
    "\n",
    "#### Little bit faster algorithm"
   ]
  },
  {
   "cell_type": "code",
   "execution_count": 6,
   "metadata": {},
   "outputs": [],
   "source": [
    "def gcd(a, b):\n",
    "    assert a >= 0 and b >= 0 and a + b >0\n",
    "    \n",
    "    while a > 0 and b > 0:\n",
    "        if a >= b:\n",
    "            a = a - b\n",
    "        else:\n",
    "            b = b - a\n",
    "    return max(a, b)"
   ]
  },
  {
   "cell_type": "code",
   "execution_count": 7,
   "metadata": {},
   "outputs": [
    {
     "name": "stdout",
     "output_type": "stream",
     "text": [
      "1\n",
      "0.0010004043579101562\n"
     ]
    }
   ],
   "source": [
    "t1 = time()\n",
    "print(gcd(790933793, 1849639572))\n",
    "print(time()-t1)"
   ]
  },
  {
   "cell_type": "markdown",
   "metadata": {},
   "source": [
    "- On some inputs, works much faster than the Naive algorithm\n",
    "- Still, there are inputs where this code is too slow: (example - gcd(790933790548, 7)\n",
    "- Reason: the code will substract 8 billions of times\n",
    "- Idea: what is left is the reminder modulo 7"
   ]
  },
  {
   "cell_type": "markdown",
   "metadata": {},
   "source": [
    "#### Euclid's algorithm"
   ]
  },
  {
   "cell_type": "code",
   "execution_count": 8,
   "metadata": {},
   "outputs": [],
   "source": [
    "def gcd(a,b):\n",
    "    assert a >= 0 and b >= 0 and a + b > 0\n",
    "    \n",
    "    while a > 0 and b > 0:\n",
    "        if a >= b:\n",
    "            a = a % b\n",
    "        else:\n",
    "            b = b % a\n",
    "        print('gcd', (a, b))\n",
    "    return max(a,b)"
   ]
  },
  {
   "cell_type": "code",
   "execution_count": 9,
   "metadata": {},
   "outputs": [
    {
     "name": "stdout",
     "output_type": "stream",
     "text": [
      "gcd (257318117883, 1849613951121)\n",
      "gcd (257318117883, 48387125940)\n",
      "gcd (15382488183, 48387125940)\n",
      "gcd (15382488183, 2239661391)\n",
      "gcd (1944519837, 2239661391)\n",
      "gcd (1944519837, 295141554)\n",
      "gcd (173670513, 295141554)\n",
      "gcd (173670513, 121471041)\n",
      "gcd (52199472, 121471041)\n",
      "gcd (52199472, 17072097)\n",
      "gcd (983181, 17072097)\n",
      "gcd (983181, 358020)\n",
      "gcd (267141, 358020)\n",
      "gcd (267141, 90879)\n",
      "gcd (85383, 90879)\n",
      "gcd (85383, 5496)\n",
      "gcd (2943, 5496)\n",
      "gcd (2943, 2553)\n",
      "gcd (390, 2553)\n",
      "gcd (390, 213)\n",
      "gcd (177, 213)\n",
      "gcd (177, 36)\n",
      "gcd (33, 36)\n",
      "gcd (33, 3)\n",
      "gcd (0, 3)\n",
      "3\n",
      "0.0020029544830322266\n"
     ]
    }
   ],
   "source": [
    "t1 = time()\n",
    "print(gcd(7909337931241249293, 1849613951121))\n",
    "print(time()-t1)"
   ]
  },
  {
   "cell_type": "markdown",
   "metadata": {},
   "source": [
    "#### Analysis\n",
    "- The numbers are getting shorter and shorter\n",
    "- A more quantitive statement: at each iteration of the while loop the larger number drops by at least a factor of 2  \n",
    "\n",
    "`Lemma`  \n",
    "Let a >= b > 0. Then (a mod b) < a/2  \n",
    "proof:  \n",
    "- if b <= a/2, then (a mod b) < b <= a/2\n",
    "- if b > a/2, then (a mod b) = a - b < a/2\n",
    "- Hence, at each iteration, either a or b is dropped by at least a factor of 2\n",
    "- Thus, the total number of iterations is at most  \n",
    "$\\log_2a + \\log_2 b$\n",
    "- If a constists of less than 5 000 decimal digits (i.e., $a < 10^{5000}$), then $\\log_2 a < 16610$\n",
    "\n",
    "#### Compact code"
   ]
  },
  {
   "cell_type": "code",
   "execution_count": 10,
   "metadata": {},
   "outputs": [
    {
     "name": "stdout",
     "output_type": "stream",
     "text": [
      "3\n"
     ]
    }
   ],
   "source": [
    "def gcd(a,b):\n",
    "    assert a >= b and b >= 0 and a + b > 0\n",
    "    return gcd(b, a % b) if b > 0 else a\n",
    "print(gcd(7909337931241249293, 1849613951121))"
   ]
  },
  {
   "cell_type": "markdown",
   "metadata": {},
   "source": [
    "### Extended Euclid's Algorithm\n",
    "- Somebody computed the greatest common divisor of a and b and wants to convince you that it is equal to d\n",
    "- You can check that d divides both a and b, but this only shows that d is a common divisor of a and b, but does not guarantees that is the greatest one\n",
    "- It turns out that it is enough to represent d as ax + by (for integers x and y)!\n",
    "\n",
    "`Lemma`  \n",
    "If $d$ divides $a$ and $b$ and $d = ax + by$ for integers $x$ and $y$, then $d = gcd(a,b)$  \n",
    "\n",
    "`Proof`\n",
    "- $d$ is a common divisor of $a$ and $b$, hence $d<=gcd(a, b)$\n",
    "- $gcd(a,b)$ divides both $a$ abd $b$, hence it also divides $d = ax + by$, and hence $gcd(a,b) <= d$\n",
    "\n",
    "#### Examples\n",
    "- $gcd(10, 6) = 2 = 10 \\times (-1) + 6 \\times 2$\n",
    "- $gcd(7, 5) = 1 = 7 \\times (-2) + 5 \\times 3$\n",
    "- $gcd(391, 299) = 23 = 391 \\times (-3) + 299 \\times 4$\n",
    "- $gcd(239, 201) = 1 = 239 \\times (-37) + 201 \\times 44$\n",
    "\n",
    "#### Extending Euclid's Algorithm\n",
    "- Recall that Euclid's algorithm uses the fact that, for $a>=b, gcd(a,b) = gcd (b, {a}\\bmod{b})$\n",
    "- Assume that $d = gcd(b, a \\bmod b)$ and that $d = bp + (a \\bmod b)q$\n",
    "- Then  \n",
    "$ d = bp (a \\bmod b)q$  \n",
    "$= bp + (a - \\lfloor \\frac{a}{b} \\rfloor b)q$  \n",
    "$= aq + b(p - \\lfloor \\frac{a}{b} \\rfloor q)$"
   ]
  },
  {
   "cell_type": "code",
   "execution_count": 6,
   "metadata": {},
   "outputs": [
    {
     "name": "stdout",
     "output_type": "stream",
     "text": [
      "(3, -52163432406, 223061798545833041)\n",
      "(1, -37, 44)\n"
     ]
    }
   ],
   "source": [
    "# returns gcd(a,b), x, y: gcd(a,b)=ax+by\n",
    "def extended_gcd(a, b):\n",
    "    assert a >= b and b >= 0 and a + b > 0\n",
    "    \n",
    "    if b == 0:\n",
    "        d, x, y = a, 1, 0\n",
    "    else:\n",
    "        (d, p, q) = extended_gcd(b, a % b)\n",
    "        x = q\n",
    "        y = p - q * (a // b)\n",
    "    \n",
    "    assert a % d == 0 and b % d == 0\n",
    "    assert d == a * x + b * y\n",
    "    return (d, x, y)\n",
    "print(extended_gcd(7909337931241249293, 1849613951121))\n",
    "print(extended_gcd(239,201))"
   ]
  },
  {
   "cell_type": "markdown",
   "metadata": {},
   "source": [
    "### Tile a Rectangle with Squares. Quiz. \n",
    "\n",
    "Given an $n \\times m$ grid (where n,m are integers), you would like to tile it with the minimal number of same size squares. Clearly, it can always be tiled with nmnm squares of size $1 \\times 1$, but it is not always optimal. For example, a $6 \\times 10$ grid can be tiled by 15 squares of size $2 \\times 2$:\n",
    "\n"
   ]
  },
  {
   "cell_type": "code",
   "execution_count": null,
   "metadata": {},
   "outputs": [],
   "source": []
  }
 ],
 "metadata": {
  "kernelspec": {
   "display_name": "Python 3",
   "language": "python",
   "name": "python3"
  },
  "language_info": {
   "codemirror_mode": {
    "name": "ipython",
    "version": 3
   },
   "file_extension": ".py",
   "mimetype": "text/x-python",
   "name": "python",
   "nbconvert_exporter": "python",
   "pygments_lexer": "ipython3",
   "version": "3.7.6"
  }
 },
 "nbformat": 4,
 "nbformat_minor": 2
}
