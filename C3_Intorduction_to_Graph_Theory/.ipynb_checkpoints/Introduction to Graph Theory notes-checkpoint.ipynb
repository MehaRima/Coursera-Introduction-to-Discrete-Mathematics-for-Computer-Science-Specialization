{
 "cells": [
  {
   "cell_type": "markdown",
   "metadata": {},
   "source": [
    "# W1. What is a graph?"
   ]
  },
  {
   "cell_type": "markdown",
   "metadata": {},
   "source": [
    "## 1.1 Warm-Up"
   ]
  },
  {
   "cell_type": "markdown",
   "metadata": {},
   "source": [
    "### Airlines Graph\n",
    "5 cities: [A, B, C, D, E]  \n",
    "6 flights: [A-B, A-C. A-E, B-D, C-D, C-E]  \n",
    "- Direct flight from A to D?  \n",
    "- One stop flight?  \n",
    "- Two stop flight?"
   ]
  },
  {
   "cell_type": "markdown",
   "metadata": {},
   "source": [
    "Eurelian Path - path which visits every edge exactly once.  \n",
    "Eurelian Path can be only even"
   ]
  },
  {
   "cell_type": "markdown",
   "metadata": {},
   "source": [
    "Examples: internet search query, cellphone network"
   ]
  },
  {
   "cell_type": "markdown",
   "metadata": {},
   "source": [
    "### External Tool. Puzzle: Guarini's Puzzle\n",
    "http://dm.compsciclub.ru/app/quiz-guarinis-puzzle"
   ]
  },
  {
   "cell_type": "markdown",
   "metadata": {},
   "source": [
    "### External Tool. Puzzle: Bridges of Konigsberg\n",
    "http://dm.compsciclub.ru/app/quiz-bridges"
   ]
  },
  {
   "cell_type": "markdown",
   "metadata": {},
   "source": [
    "## 1.2 Why Graphs?"
   ]
  },
  {
   "cell_type": "markdown",
   "metadata": {},
   "source": [
    "Graph is a set of objects/relations between them\n",
    "- A Graph G G = (V,E)\n",
    "- A set V of Vertices/Nodes\n",
    "- A set E of Edges\n",
    "\n",
    "Vocabulary:\n",
    "- We can name individual vertices and edges\n",
    "- vertice e connects objects u and v\n",
    "- u and v are End Points of e\n",
    "- u and e are Incident\n",
    "- u and v are Adjacent\n",
    "- u and v are Neighbours\n",
    "\n",
    "Example:  \n",
    "Objects: {A,B,C,D}  \n",
    "Relations: {{A,C}, {D,A}, {B,D}, {C,B}}\n",
    "- *Note drawning doesn't matter, there can be many ways to draw the same graph*\n",
    "- Edge can be directed (called Arcs)\n",
    "\n",
    "If graph using directed edges it is called directed graph\n",
    "For directed graph relations written in the following way:  \n",
    "Objects: {A,B,C,D}  \n",
    "Relations: {(A,C), (D,A), (B,D), (C,B)} - different brackets"
   ]
  },
  {
   "cell_type": "markdown",
   "metadata": {},
   "source": [
    "### Graph drawning example"
   ]
  },
  {
   "cell_type": "code",
   "execution_count": 1,
   "metadata": {},
   "outputs": [
    {
     "ename": "ImportError",
     "evalue": "DLL load failed: Не найден указанный модуль.",
     "output_type": "error",
     "traceback": [
      "\u001b[1;31m---------------------------------------------------------------------------\u001b[0m",
      "\u001b[1;31mImportError\u001b[0m                               Traceback (most recent call last)",
      "\u001b[1;32m<ipython-input-1-c25a967351be>\u001b[0m in \u001b[0;36m<module>\u001b[1;34m\u001b[0m\n\u001b[0;32m      2\u001b[0m \u001b[1;33m\u001b[0m\u001b[0m\n\u001b[0;32m      3\u001b[0m \u001b[1;32mimport\u001b[0m \u001b[0mnetworkx\u001b[0m \u001b[1;32mas\u001b[0m \u001b[0mnx\u001b[0m\u001b[1;33m\u001b[0m\u001b[1;33m\u001b[0m\u001b[0m\n\u001b[1;32m----> 4\u001b[1;33m \u001b[1;32mimport\u001b[0m \u001b[0mpygraphviz\u001b[0m \u001b[1;32mas\u001b[0m \u001b[0mpgv\u001b[0m\u001b[1;33m\u001b[0m\u001b[1;33m\u001b[0m\u001b[0m\n\u001b[0m\u001b[0;32m      5\u001b[0m \u001b[1;32mfrom\u001b[0m \u001b[0mnxpd\u001b[0m \u001b[1;32mimport\u001b[0m \u001b[0mdraw\u001b[0m\u001b[1;33m,\u001b[0m \u001b[0mnxpdParams\u001b[0m\u001b[1;33m\u001b[0m\u001b[1;33m\u001b[0m\u001b[0m\n\u001b[0;32m      6\u001b[0m \u001b[0mnxpdParams\u001b[0m\u001b[1;33m[\u001b[0m\u001b[1;34m'show'\u001b[0m\u001b[1;33m]\u001b[0m \u001b[1;33m=\u001b[0m \u001b[1;34m'ipynb'\u001b[0m\u001b[1;33m\u001b[0m\u001b[1;33m\u001b[0m\u001b[0m\n",
      "\u001b[1;32mC:\\Anaconda3\\lib\\site-packages\\pygraphviz\\__init__.py\u001b[0m in \u001b[0;36m<module>\u001b[1;34m\u001b[0m\n\u001b[0;32m     56\u001b[0m \u001b[0m__license__\u001b[0m  \u001b[1;33m=\u001b[0m \u001b[0mrelease\u001b[0m\u001b[1;33m.\u001b[0m\u001b[0mlicense\u001b[0m\u001b[1;33m\u001b[0m\u001b[1;33m\u001b[0m\u001b[0m\n\u001b[0;32m     57\u001b[0m \u001b[1;33m\u001b[0m\u001b[0m\n\u001b[1;32m---> 58\u001b[1;33m \u001b[1;32mfrom\u001b[0m \u001b[1;33m.\u001b[0m\u001b[0magraph\u001b[0m \u001b[1;32mimport\u001b[0m \u001b[0mAGraph\u001b[0m\u001b[1;33m,\u001b[0m \u001b[0mNode\u001b[0m\u001b[1;33m,\u001b[0m \u001b[0mEdge\u001b[0m\u001b[1;33m,\u001b[0m \u001b[0mAttribute\u001b[0m\u001b[1;33m,\u001b[0m \u001b[0mItemAttribute\u001b[0m\u001b[1;33m,\u001b[0m \u001b[0mDotError\u001b[0m\u001b[1;33m\u001b[0m\u001b[1;33m\u001b[0m\u001b[0m\n\u001b[0m\u001b[0;32m     59\u001b[0m \u001b[1;33m\u001b[0m\u001b[0m\n\u001b[0;32m     60\u001b[0m __all__=[\n",
      "\u001b[1;32mC:\\Anaconda3\\lib\\site-packages\\pygraphviz\\agraph.py\u001b[0m in \u001b[0;36m<module>\u001b[1;34m\u001b[0m\n\u001b[0;32m     20\u001b[0m \u001b[1;32mfrom\u001b[0m \u001b[0mcollections\u001b[0m \u001b[1;32mimport\u001b[0m \u001b[0mMutableMapping\u001b[0m\u001b[1;33m\u001b[0m\u001b[1;33m\u001b[0m\u001b[0m\n\u001b[0;32m     21\u001b[0m \u001b[1;33m\u001b[0m\u001b[0m\n\u001b[1;32m---> 22\u001b[1;33m \u001b[1;32mfrom\u001b[0m \u001b[1;33m.\u001b[0m \u001b[1;32mimport\u001b[0m \u001b[0mgraphviz\u001b[0m \u001b[1;32mas\u001b[0m \u001b[0mgv\u001b[0m\u001b[1;33m\u001b[0m\u001b[1;33m\u001b[0m\u001b[0m\n\u001b[0m\u001b[0;32m     23\u001b[0m \u001b[1;33m\u001b[0m\u001b[0m\n\u001b[0;32m     24\u001b[0m \u001b[0m_DEFAULT_ENCODING\u001b[0m \u001b[1;33m=\u001b[0m \u001b[1;34m'UTF-8'\u001b[0m\u001b[1;33m\u001b[0m\u001b[1;33m\u001b[0m\u001b[0m\n",
      "\u001b[1;32mC:\\Anaconda3\\lib\\site-packages\\pygraphviz\\graphviz.py\u001b[0m in \u001b[0;36m<module>\u001b[1;34m\u001b[0m\n\u001b[0;32m     26\u001b[0m                 \u001b[0mfp\u001b[0m\u001b[1;33m.\u001b[0m\u001b[0mclose\u001b[0m\u001b[1;33m(\u001b[0m\u001b[1;33m)\u001b[0m\u001b[1;33m\u001b[0m\u001b[1;33m\u001b[0m\u001b[0m\n\u001b[0;32m     27\u001b[0m             \u001b[1;32mreturn\u001b[0m \u001b[0m_mod\u001b[0m\u001b[1;33m\u001b[0m\u001b[1;33m\u001b[0m\u001b[0m\n\u001b[1;32m---> 28\u001b[1;33m     \u001b[0m_graphviz\u001b[0m \u001b[1;33m=\u001b[0m \u001b[0mswig_import_helper\u001b[0m\u001b[1;33m(\u001b[0m\u001b[1;33m)\u001b[0m\u001b[1;33m\u001b[0m\u001b[1;33m\u001b[0m\u001b[0m\n\u001b[0m\u001b[0;32m     29\u001b[0m     \u001b[1;32mdel\u001b[0m \u001b[0mswig_import_helper\u001b[0m\u001b[1;33m\u001b[0m\u001b[1;33m\u001b[0m\u001b[0m\n\u001b[0;32m     30\u001b[0m \u001b[1;32melse\u001b[0m\u001b[1;33m:\u001b[0m\u001b[1;33m\u001b[0m\u001b[1;33m\u001b[0m\u001b[0m\n",
      "\u001b[1;32mC:\\Anaconda3\\lib\\site-packages\\pygraphviz\\graphviz.py\u001b[0m in \u001b[0;36mswig_import_helper\u001b[1;34m()\u001b[0m\n\u001b[0;32m     22\u001b[0m         \u001b[1;32mif\u001b[0m \u001b[0mfp\u001b[0m \u001b[1;32mis\u001b[0m \u001b[1;32mnot\u001b[0m \u001b[1;32mNone\u001b[0m\u001b[1;33m:\u001b[0m\u001b[1;33m\u001b[0m\u001b[1;33m\u001b[0m\u001b[0m\n\u001b[0;32m     23\u001b[0m             \u001b[1;32mtry\u001b[0m\u001b[1;33m:\u001b[0m\u001b[1;33m\u001b[0m\u001b[1;33m\u001b[0m\u001b[0m\n\u001b[1;32m---> 24\u001b[1;33m                 \u001b[0m_mod\u001b[0m \u001b[1;33m=\u001b[0m \u001b[0mimp\u001b[0m\u001b[1;33m.\u001b[0m\u001b[0mload_module\u001b[0m\u001b[1;33m(\u001b[0m\u001b[1;34m'_graphviz'\u001b[0m\u001b[1;33m,\u001b[0m \u001b[0mfp\u001b[0m\u001b[1;33m,\u001b[0m \u001b[0mpathname\u001b[0m\u001b[1;33m,\u001b[0m \u001b[0mdescription\u001b[0m\u001b[1;33m)\u001b[0m\u001b[1;33m\u001b[0m\u001b[1;33m\u001b[0m\u001b[0m\n\u001b[0m\u001b[0;32m     25\u001b[0m             \u001b[1;32mfinally\u001b[0m\u001b[1;33m:\u001b[0m\u001b[1;33m\u001b[0m\u001b[1;33m\u001b[0m\u001b[0m\n\u001b[0;32m     26\u001b[0m                 \u001b[0mfp\u001b[0m\u001b[1;33m.\u001b[0m\u001b[0mclose\u001b[0m\u001b[1;33m(\u001b[0m\u001b[1;33m)\u001b[0m\u001b[1;33m\u001b[0m\u001b[1;33m\u001b[0m\u001b[0m\n",
      "\u001b[1;32mC:\\Anaconda3\\lib\\imp.py\u001b[0m in \u001b[0;36mload_module\u001b[1;34m(name, file, filename, details)\u001b[0m\n\u001b[0;32m    241\u001b[0m                 \u001b[1;32mreturn\u001b[0m \u001b[0mload_dynamic\u001b[0m\u001b[1;33m(\u001b[0m\u001b[0mname\u001b[0m\u001b[1;33m,\u001b[0m \u001b[0mfilename\u001b[0m\u001b[1;33m,\u001b[0m \u001b[0mopened_file\u001b[0m\u001b[1;33m)\u001b[0m\u001b[1;33m\u001b[0m\u001b[1;33m\u001b[0m\u001b[0m\n\u001b[0;32m    242\u001b[0m         \u001b[1;32melse\u001b[0m\u001b[1;33m:\u001b[0m\u001b[1;33m\u001b[0m\u001b[1;33m\u001b[0m\u001b[0m\n\u001b[1;32m--> 243\u001b[1;33m             \u001b[1;32mreturn\u001b[0m \u001b[0mload_dynamic\u001b[0m\u001b[1;33m(\u001b[0m\u001b[0mname\u001b[0m\u001b[1;33m,\u001b[0m \u001b[0mfilename\u001b[0m\u001b[1;33m,\u001b[0m \u001b[0mfile\u001b[0m\u001b[1;33m)\u001b[0m\u001b[1;33m\u001b[0m\u001b[1;33m\u001b[0m\u001b[0m\n\u001b[0m\u001b[0;32m    244\u001b[0m     \u001b[1;32melif\u001b[0m \u001b[0mtype_\u001b[0m \u001b[1;33m==\u001b[0m \u001b[0mPKG_DIRECTORY\u001b[0m\u001b[1;33m:\u001b[0m\u001b[1;33m\u001b[0m\u001b[1;33m\u001b[0m\u001b[0m\n\u001b[0;32m    245\u001b[0m         \u001b[1;32mreturn\u001b[0m \u001b[0mload_package\u001b[0m\u001b[1;33m(\u001b[0m\u001b[0mname\u001b[0m\u001b[1;33m,\u001b[0m \u001b[0mfilename\u001b[0m\u001b[1;33m)\u001b[0m\u001b[1;33m\u001b[0m\u001b[1;33m\u001b[0m\u001b[0m\n",
      "\u001b[1;32mC:\\Anaconda3\\lib\\imp.py\u001b[0m in \u001b[0;36mload_dynamic\u001b[1;34m(name, path, file)\u001b[0m\n\u001b[0;32m    341\u001b[0m         spec = importlib.machinery.ModuleSpec(\n\u001b[0;32m    342\u001b[0m             name=name, loader=loader, origin=path)\n\u001b[1;32m--> 343\u001b[1;33m         \u001b[1;32mreturn\u001b[0m \u001b[0m_load\u001b[0m\u001b[1;33m(\u001b[0m\u001b[0mspec\u001b[0m\u001b[1;33m)\u001b[0m\u001b[1;33m\u001b[0m\u001b[1;33m\u001b[0m\u001b[0m\n\u001b[0m\u001b[0;32m    344\u001b[0m \u001b[1;33m\u001b[0m\u001b[0m\n\u001b[0;32m    345\u001b[0m \u001b[1;32melse\u001b[0m\u001b[1;33m:\u001b[0m\u001b[1;33m\u001b[0m\u001b[1;33m\u001b[0m\u001b[0m\n",
      "\u001b[1;31mImportError\u001b[0m: DLL load failed: Не найден указанный модуль."
     ]
    }
   ],
   "source": [
    "# First, we create a simple directed graph with five nodes and six edges.\n",
    "\n",
    "import networkx as nx\n",
    "import pygraphviz as pgv\n",
    "from nxpd import draw, nxpdParams\n",
    "nxpdParams['show'] = 'ipynb'\n",
    "\n",
    "\n",
    "G = nx.DiGraph()\n",
    "G.add_edge(\"a\", \"b\")\n",
    "G.add_edge(\"b\", \"c\")\n",
    "G.add_edge(\"c\", \"d\")\n",
    "G.add_edge(\"d\", \"e\")\n",
    "G.add_edge(\"e\", \"c\")\n",
    "G.add_edge(\"a\", \"d\")"
   ]
  },
  {
   "cell_type": "code",
   "execution_count": null,
   "metadata": {},
   "outputs": [],
   "source": [
    "draw(G, layout='circo') #layout='dot', layout='neato'"
   ]
  },
  {
   "cell_type": "markdown",
   "metadata": {},
   "source": [
    "### Graph Applications:"
   ]
  },
  {
   "cell_type": "markdown",
   "metadata": {},
   "source": [
    "- PageRank by google\n",
    "- Game strategies (chess)\n",
    "- Google maps route\n",
    "- Genome assembly\n",
    "- GSM with 4 frequenct ranges\n",
    "- Computer chips with shortest connections"
   ]
  },
  {
   "cell_type": "markdown",
   "metadata": {},
   "source": [
    "## 1.3 Basic Definitions"
   ]
  },
  {
   "cell_type": "markdown",
   "metadata": {},
   "source": [
    "### The Degree of a Vertex"
   ]
  },
  {
   "cell_type": "markdown",
   "metadata": {},
   "source": [
    "- An isolated vertex forms a component.\n",
    "- `Degree of a vertex` - number of its incident edges\n",
    "- == `Degree of a vertex` is number of its neighbors\n",
    "- `Degree of a vertex` v is denoted by deg(v)\n",
    "- `Degree of a graph` is the maximum degree of its vertices\n",
    "- `Isolated vertex` is vertex with deg(v) = 0 (no neighbours)\n",
    "- `Regualr graph` - graph, where all vertices has the same degree\n",
    "- == If the degree of regular graph is k -> it is called `k-Regular graph`\n",
    "- `Complement of a graph` G = (V,E) is a graph $\\overline{G} = (V, \\overline{E})$ on the same set of vertices V and the following set of edges:  \n",
    "Two vertices are connected in $\\overline{G}$ if and only if they are not connected in G; So, complement of G contains all edges that do not belong to G;  \n",
    "$(u,v) \\in \\overline {E}$ if and only if $(u,v) \\notin E$"
   ]
  },
  {
   "cell_type": "markdown",
   "metadata": {},
   "source": [
    "### Paths"
   ]
  },
  {
   "cell_type": "markdown",
   "metadata": {},
   "source": [
    "- A `walk` in a graph is a sequence of edges, such that each edge (except for the first one) starts with a vertex where the previous edge ended\n",
    "- `Length` of a walk is the number of edges in it\n",
    "- A `path` is a walk where all edges are distinct (path has its length)\n",
    "- A `simple path` is a walk where all vertices are distinct (simple path has its length)\n",
    "- A `cycle` in a graph is a path whose first vertex is the same as the last one\n",
    "- A `simple cycle` is a cycle where all vertices except for the first one are distinct.\n"
   ]
  },
  {
   "cell_type": "markdown",
   "metadata": {},
   "source": [
    "### Connectivity"
   ]
  },
  {
   "cell_type": "markdown",
   "metadata": {},
   "source": [
    "- A graph is called `connected` if there is a path between every pair of its vertices\n",
    "- A `connected component` of a grapg G is a maximal connected subgraph of G"
   ]
  },
  {
   "cell_type": "markdown",
   "metadata": {},
   "source": [
    "### Directed Graphs"
   ]
  },
  {
   "cell_type": "markdown",
   "metadata": {},
   "source": [
    "- `Undirected edge` {u,v} (curly brackets mean set)\n",
    "- `Directed edge` (aka ark) (u,v) (round brackets mean that order matters), u=tail, v=head\n",
    "- `Indegree` of a vertex v is the number of edges ending at v\n",
    "- `Outdegree` of a vertex v is the number of edges leaving v"
   ]
  },
  {
   "cell_type": "markdown",
   "metadata": {},
   "source": [
    "### Weighted Graphs\n",
    "- `Weighted Graph` assicuates a weight with every edge\n",
    "- The `Weight` of a path is the sum of the weights of its edges\n",
    "- `Shortest Path` between two vertices is a path of the minimum weight\n",
    "- The `Distance` between two vertices is the length of a shortest path between them"
   ]
  },
  {
   "cell_type": "markdown",
   "metadata": {},
   "source": [
    "## 1.4 Basic Graphs"
   ]
  },
  {
   "cell_type": "markdown",
   "metadata": {},
   "source": [
    "### External Tool. Puzzle: make a tree\n",
    "http://dm.compsciclub.ru/app/quiz-make-a-tree"
   ]
  },
  {
   "cell_type": "markdown",
   "metadata": {},
   "source": [
    "### Paths, Cycles and Complete Graphs\n",
    "\n",
    "`Path Graph` $P_n$, n>=2 consists of n vertices $v_1$, $v_2$, ...,$v_n$ and n-1 edges\n",
    "{$v_1,v_2$}, ..., {$v_{n-1}, v_n$}  \n",
    "`Cycle Graph` $C_n$, n>=3 consits of n vertices $v_1$, $v_2$, ...,$v_n$ and n edges\n",
    "{$v_1,v_2$}, ..., {$v_{n}, v_1$}\n",
    "`Complete Graph`(Clique) $K_n$, n>=2, cotaints n vertices $v_1$, $v_2$, ...,$v_n$ and all edges between them n(n-1)/2 edges"
   ]
  },
  {
   "cell_type": "markdown",
   "metadata": {},
   "source": [
    "### Trees\n",
    "\n",
    "- A `tree` is a connected graph without cycles\n",
    "- == `tree` is a connected graph on n vertices with n-1 edges\n",
    "- == A graph is a `tree` if and only if there is a unique simple path between any pair of its vertices\n",
    "- Path is also a tree"
   ]
  },
  {
   "cell_type": "markdown",
   "metadata": {},
   "source": [
    "### Bipartite Graphs\n",
    "- A graph G is `Bipartite` if its vertices can be partitioned into two disjoint sets L and R such that:\n",
    "    - Every edge of G connects a vertex in L to a vertex in R\n",
    "    - I.e., no edge connects two vertices from the same part\n",
    "- L and R are called parts of G\n",
    "- Bipartite graph can also be `complete` and can be denoted as $K_{4,3}$ if there is 4 vertices on the left part and 3 vertices on the right part\n",
    "- For even n, $C_n$ is not bipartite\n",
    "- For odd n>2, $C_n$ is not bipartite"
   ]
  },
  {
   "cell_type": "markdown",
   "metadata": {},
   "source": [
    "# W2. Cycles"
   ]
  },
  {
   "cell_type": "markdown",
   "metadata": {},
   "source": [
    "## 2.1 Handshaking lemma\n",
    "\n",
    "### External Tool. Puzzle: Connect Points by Segments\n",
    "Is it possible to connect some pairs of nine point by segments so that each point is connected to five other points? http://dm.compsciclub.ru/app/quiz-regular-graph  \n",
    "\n",
    "### Handshaking lemma\n",
    "\n",
    "The number of odd points is always even, hence we will never reach a situation when there are 9 points of degree 5.  \n",
    "Lemma: for any graph G(V,E), the sum of degrees of all its nodes is twice the number of edges:  \n",
    "$\\sum_{v \\in V} degree(v) = 2 \\times |E|$\n",
    "Implies the handshaking lemma: if a graph had an odd number of odd nodes, then the sum of degrees would be also odd."
   ]
  },
  {
   "cell_type": "markdown",
   "metadata": {},
   "source": [
    "### Total degree\n",
    "\n",
    "At an exam, each of 20 students solved 3 problems. Each problem was solved by 5 students. What was the number of problems?\n",
    "\n",
    "Solution: \n",
    "- assume that each student wrote a solution on a sperate piece of paper\n",
    "- then, there are 20 x 3 = 60 pieces of paper\n",
    "- for each problem, let's stack together all its five solutions\n",
    "- thus, the number of problems is 60/5 = 12\n",
    "\n",
    "Summary:\n",
    "- This is a bipartite graph: each edge joins a student and a problem\n",
    "- `Double counting` technique was used to solve the problem:\n",
    "    - on one hand, the number of edges is equal to the total degree of the left part (i.e. the sum of all degree of the nodes from the left\n",
    "    - on the other hand, it is equal to the total degree of the right part"
   ]
  },
  {
   "cell_type": "markdown",
   "metadata": {},
   "source": [
    "### Quiz. Computing the Number of Edges\n",
    "\n",
    "Q: An undirected graph has twelve nodes. Four of them have degree six, five of them have degree three, three of them have degree seven. What is the number of edges in this graph?\n",
    "\n",
    "A: Due to the degree sum formula, it is equal to ($4\\times 6 + 5 \\times 3 + 3 \\times 7)/2=60/2=30.(4×6+5×3+3×7)/2=60/2=30$"
   ]
  },
  {
   "cell_type": "markdown",
   "metadata": {},
   "source": [
    "## 2.2 Connected Components\n",
    "\n",
    "### Connected Components"
   ]
  },
  {
   "cell_type": "markdown",
   "metadata": {},
   "source": [
    "Consider an undirected graph.  \n",
    "- Two nodes are connected, if there is a path between them  \n",
    "- If u and v are connected and v and w are connected, then u and w are connected, too (transitivity)\n",
    "- A graph is connected if there is a path between any two of its nodes.\n",
    "\n",
    "The nodes of any undirected graph can be partitioned into subsets called connected components:\n",
    "- Any node belongs to exactly one connected component\n",
    "- Any rwo nodes from the same connected component are connected\n",
    "- Any two nodes from different connected components are not connected"
   ]
  },
  {
   "cell_type": "markdown",
   "metadata": {},
   "source": [
    "###  Notebook. connected components"
   ]
  },
  {
   "cell_type": "code",
   "execution_count": null,
   "metadata": {},
   "outputs": [],
   "source": [
    "import networkx as nx\n",
    "import pygraphviz as pgv\n",
    "from nxpd import draw, nxpdParams\n",
    "nxpdParams['show'] = 'ipynb'\n",
    "\n",
    "\n",
    "G = nx.Graph()\n",
    "G.add_edges_from([('a', 'b'), ('t', 'c'), ('b', 'x'), ('c', 'q'), ('q', 't')])\n",
    "draw(G, layout='circo')"
   ]
  },
  {
   "cell_type": "code",
   "execution_count": null,
   "metadata": {},
   "outputs": [],
   "source": [
    "print(\"G has {} connected components\".format(nx.number_connected_components(G)))\n",
    "for cc in nx.connected_components(G):\n",
    "    print(cc)"
   ]
  },
  {
   "cell_type": "markdown",
   "metadata": {},
   "source": [
    "### Quiz. Number of connected components"
   ]
  },
  {
   "cell_type": "markdown",
   "metadata": {},
   "source": [
    "### Guarini Puzzle: Code\n",
    "\n",
    "The configuration is reachable from the other one, if and only if they belong to the same connected component!\n",
    "\n",
    "Code can be found in `W02_01_Guarini+Solver.ipynb`"
   ]
  },
  {
   "cell_type": "markdown",
   "metadata": {},
   "source": [
    "### Lower Bound\n",
    "\n",
    "Theorem:\n",
    "An undirected graph G(V,E) has at least |V| - |E| connected components\n",
    "- if a graph is connected, then |E| >= |V| - 1 (indeed, if |E|<=|V|-2, then, by the theorem, the graph has at least 2 connected components)\n",
    "- if |E| = 0, then every node forms a connected component\n",
    "- The theorem is useless for graphs with |E| >= |V|\n",
    "\n",
    "Proof:\n",
    "- Start with an empty graph (containing no edges) \n",
    "- Initially, the number of connected components is |V|, it is indeed at least |V| - |E| = |V|\n",
    "- Each time when we add a new edge, |V|-|E| decreases by 1 \n",
    "- At the same time, the number of connected components either decreases by 1 or stays the same"
   ]
  },
  {
   "cell_type": "markdown",
   "metadata": {},
   "source": [
    "### The heaviest stone  \n",
    "There are n stones of different weights. An expert knows the weights and wants to convince the court that a particular stones is the heaviest one. For thism he repeatedly uses a pan balance to compare the weights of some two stones.  \n",
    "Q: What is the minimum number of comparisons required?\n",
    "\n",
    "Upper Bound:\n",
    "- n-1 comparisons are definitely enough:\n",
    "    - the expert might compare the heavist stone with all other n-1 stones\n",
    "    - the expert can also order the stones by their weight ($w_{1}$ < $w_{2}$ <... < $w_{n}$) and then perform comparisons $w_{1}$ < $w_{2}$, $w_{2}$ < $w_{3}$, ... ,$w_{n-1}$ < $w_{n}$; this will reveal the full order of stones  \n",
    "Q: Is this optimal?\n",
    "A: Yes!  \n",
    "\n",
    "Proof:\n",
    "- Consider the following graph: nodes are stones, two stones are joined by an edge if they were compared by the expert\n",
    "- Note that we are not even interested in the results of comparison performed by an expert\n",
    "- If there were less than n-1 comparisons then the graph contains at least two connected components\n",
    "- But this means that the court is still not sure about the heavist stone!"
   ]
  },
  {
   "cell_type": "markdown",
   "metadata": {},
   "source": [
    "### Directed Acyclic Graphs\n",
    "Dircred acyclic graph (DAG) is a directed graph without cycles.\n",
    "\n",
    "Dependency graph:\n",
    "- Consider the following (directed) dependency graph: nodes are jobs, there is a directed edge from A to B if the job A must be processed before B\n",
    "- We want to process jobs one by one\n",
    "- How to find an order of jons satisfying all constraints?\n",
    "- If there is a cycle in the graph, then there is no such order\n",
    "- It turns out that this is the only obstacle: if the graph is acyclic, then there is an ordering of its vertices satisfying all the constraints!\n",
    "\n",
    "Topological ordering of a directed graph is an ordering of its vertices such that, for each edge (u,v), u comes before v.\n",
    "\n",
    "Theorem: every DAG has a topological ordering  \n",
    "Proof:\n",
    "- We ll show that every DAG has a sink - a node with no outgoing edges\n",
    "- Take a sink, put it to the end of the ordering, remove it from the graph (this keeps the graph acyclic), and repeat"
   ]
  },
  {
   "cell_type": "markdown",
   "metadata": {},
   "source": [
    "### Every DAG Has a Sink\n",
    "- Assume that a DAG does not have a sink: for every node, there is at least one outgoing edge\n",
    "- Start a walk from any vertex"
   ]
  },
  {
   "cell_type": "markdown",
   "metadata": {},
   "source": [
    "### Notebook. Topological Sorting \n",
    "Code can be found in W02_02_Guarini+Solver.ipynb"
   ]
  },
  {
   "cell_type": "markdown",
   "metadata": {},
   "source": [
    "### Strongly connected graphs\n",
    "- In a directed graph, node u, v are connected, if there is a path from u to v and a path from v to u\n",
    "- Nodes of any directed graph can be partitioned into subsets called strongly connected components (SCCs):\n",
    "    - every node belongs to exactly one SCC\n",
    "    - nodes from the same SCC are connected\n",
    "    - nodes from different SCCs are not connected"
   ]
  },
  {
   "cell_type": "markdown",
   "metadata": {},
   "source": [
    "## 2.3 Eulerian and Hamiltonian Cycles"
   ]
  },
  {
   "cell_type": "markdown",
   "metadata": {},
   "source": [
    "### Eulerian cycle"
   ]
  },
  {
   "cell_type": "markdown",
   "metadata": {},
   "source": [
    "An `Eulerian cycle (or path)` visits every edge exactly once.\n",
    "\n",
    "- This definition works for both directed and undirected graphs\n",
    "- A cycle must have the same starting and ending nodes\n",
    "- While in a path the starting and ending node should not necessarily be equal"
   ]
  },
  {
   "cell_type": "markdown",
   "metadata": {},
   "source": [
    "*Theorem*:  \n",
    "A connected undirected graph contains an Eulerian cycle, if and only if the degree of every node is even.  \n",
    "*Theorem*:  \n",
    "A strongly connected directed graph contains an Eulerian cycle, if and only if, for every node, its in-degree is equal to its out-degree.  \n",
    "Note:  \n",
    "If some node is imbalanced, there is clearly no Eulerian cycle\n",
    "\n",
    "Path instead of Cycle:\n",
    "- The criteria for a path is similar\n",
    "- A graph is allowed to contain two imbalanced nodes: one for the starting point and one for the ending point of a path\n",
    "- By adding an edge between these two nodes, one gets a graph with an Eulerian cycle\n",
    "- Difference between cycle and path is that cycle need to start and end in the one point"
   ]
  },
  {
   "cell_type": "markdown",
   "metadata": {},
   "source": [
    "### External Tool. Puzzle: Hamiltonian Cycles\n",
    "http://dm.compsciclub.ru/app/quiz-hamiltonian-cycle  \n",
    "\n",
    "### Hamiltonian Cycle\n",
    "A `Hamiltonian cycle` visits every node of a graph exactly once.\n",
    "Cryteria:\n",
    "- No simple criteria is known for the Hamiltonian cycle problem\n",
    "- No polynomial time algorithm known\n",
    "- The question whether there is a polynomial time algorithm for the Hamiltonian cycle problem is the P versus NP problem, the most important open problem in Computer Science, with a prize of \\$1M from the Clay Mathematics Institute (http://www.claymath.org/millennium-problems)\n",
    "\n"
   ]
  },
  {
   "cell_type": "markdown",
   "metadata": {},
   "source": [
    "### Genome Assembly\n",
    "Toy genome Assembly Problem  \n",
    "Find a string whose all substrings of length 3 are:  \n",
    "AGC, ATC, CAG, CAT, CCA, GCA, TCA, TCC  \n",
    "Goal: Find a string whose all substrings of length 3 are AGC, ATC, CAG, CAT, CCA, CGA, TCA, TCC  \n",
    "Hence, we need to find an order of these 3-strings such that the overlap between any two consecutive strings is equal to 2.  \n",
    "\n",
    "*Are we done?*\n",
    "- Ok, we've reduced the problem of genome assembly to the Hamiltonian cycle problem\n",
    "- But we don't have efficient algorithms for the Hamiltonian cycle problem\n",
    "- The approach is useless for the case when there are thousands of millions of input strings\n",
    "- In the overlap graph each input is represented by a node\n",
    "- Lets intead try to represent each string by an edge(De Bruijn; Pevzner, Tang, Waterman)\n",
    "- E.g., represent at the string CAT as an edge CA->AT\n",
    "- Used in state-of-the art genome assemblers\n",
    "\n",
    "*Summary*\n",
    "- Eulerian cycle visits every edge exactly once\n",
    "- Hamiltonian cycle visits every node exactly once\n",
    "- Look similar to each other, but differ drastically from the computational point of view\n",
    "- Genome assembly: the right problem formulation makes all the difference!"
   ]
  },
  {
   "cell_type": "markdown",
   "metadata": {},
   "source": [
    "# W3. Graph Classes"
   ]
  },
  {
   "cell_type": "markdown",
   "metadata": {},
   "source": [
    "## 3.1 Trees \n",
    "\n",
    "### External Tool. Puzzle: Road Repair\n",
    "http://dm.compsciclub.ru/app/quiz-road-repair  \n",
    "Idea: to take cheapest not connected vertices"
   ]
  },
  {
   "cell_type": "markdown",
   "metadata": {},
   "source": [
    "### Trees\n",
    "- (I) A tree is a connected graph without cycles\n",
    "- (II) A tree is a connected graph on n vertices with n-1 edges\n",
    "- (III) A graph is a tree if and only if there is a unique simple path between any pair of its vertices  \n",
    "\n",
    "Lets prove that (I) -> (II) -> (III) -> (I):\n",
    "- A connected graph on n vertices without cycles has n-1 edges  \n",
    "- Induction on n  \n",
    "- Base case. n = 1,0 edges\n",
    "- Induction hypothesis. Every connected graph on t <= k vertices has t-1 edges\n",
    "- Induction step. Every connected graph on k+1 vertices has k edges\n",
    "\n",
    "\n",
    "1. Remove an edge\n",
    "2. Two connected graphs without cycles: with n1 and n2 vertices, n1 + n2 = n.\n",
    "3. By induction hypothesis they have n1-1 and n2-1 edges\n",
    "4. Thus, the original graph has (n1-1) + (n2-1) + 1 = n - 1 edges\n",
    "\n",
    "Equivalent Definitions\n"
   ]
  },
  {
   "cell_type": "markdown",
   "metadata": {},
   "source": [
    "### Minimum Spanning Tree\n",
    "\n",
    "Kruskal's Algorithm\n",
    "- Start with an empty graph T\n",
    "- Repeat n-1 times:\n",
    "- Add to T an edge of the smallest weight which doesn't create a cycle in T\n",
    "\n",
    "Proof:\n",
    "- We will show that at every step of the algorithm, there exists a Minimum Spanning Tree which contains all currently chosen edges\n",
    "- Induction on Step Number s\n",
    "- Base Case. s = 0, empty tree\n"
   ]
  },
  {
   "cell_type": "markdown",
   "metadata": {},
   "source": [
    "## 3.2 Bipartite Graphs"
   ]
  },
  {
   "cell_type": "markdown",
   "metadata": {},
   "source": [
    "### External Tool. Puzzle: Job Assignment\n",
    "http://dm.compsciclub.ru/app/quiz-job-assignment\n",
    "\n",
    "### Bipartite Graphs\n",
    "- A graph G is `Bipartite` if its vertices can be partitioned into two disjoint sets L and R such that:\n",
    "    - Every edge of G connectes a vertex in L to a vertex in R\n",
    "    - I.e., no edge connects two vertices from the same part\n",
    "- L and R are called the parts of G\n",
    "\n",
    "*Theorem*  \n",
    "A graph is bipartite if and only if it has no cycles of odd length.\n",
    "\n",
    "Proof:\n",
    "- Let $G = (L \\cup R,E)$ be bipartite. Every edge goes from L to R (or from R to L)\n",
    "- To end up in the original vertex, one has to make an even number of steps\n",
    "\n",
    "Another proof:  \n",
    "- If there are no cycles of odd length in G, then G is bipartite\n",
    "- If G has several connected components, fix one: $C_1$, and a vertex $v \\in C_1$, color `v` red\n",
    "- If there is a path from v to u of odd length, color `u` blue, otherwise: red\n",
    "- If partition is bad: there is an edge between two red vertices or two blue vertices -> cycle of odd length -> contradiction\n",
    "- Repeat for other connected components\n"
   ]
  },
  {
   "cell_type": "markdown",
   "metadata": {},
   "source": [
    "### Matchings\n",
    "- A `Matching` in a graph is a set of edges without common vertices\n",
    "- A `Maximal MAtching` is a matching which cannot be extended to a larger matching\n",
    "- A `Maximum Matching` is a matching of the largest size\n",
    "- We often want to find a matching in a bipartite graph which covers all vertices of one side\n",
    "\n",
    "### Matching bipartite graph\n",
    "Q: Why do we need a matching for a bipartite graph  \n",
    "A: We can cover all job openings by applicants\n",
    "\n",
    "### Hall's Theorem\n",
    "*definition*  \n",
    "Let G = (V,E) be a graph, and $S \\subseteq V$ be a subset of vertices.  \n",
    "The Neighborhood N(S) of S is the set of all vertices connected to at least one vertex in S\n",
    "*Theorem (Hall, 1935)*  \n",
    "In a bipartite graph $G = (L \\cup R, E)$, there is a matching which covers all vertices from L if and only if for every subset of vertices $S \\subseteq L$,  \n",
    "$|S| <= |N(S)|$"
   ]
  },
  {
   "cell_type": "markdown",
   "metadata": {},
   "source": [
    "### Hall's Theorem\n",
    "\n",
    "- In a bipartite graph $G = (L \\cup R, E)$, there is a matching which covers all vertices from L if and only if for every subset of vertices $S \\subseteq L$,  \n",
    "$|S| <= |N(S)|$\n",
    "\n",
    "- If there is a matching which covers all vertics of L, then for every $S \\subseteq L$ we can take the matched vertices from R\n",
    "- There are at least |S| of them, thus, |N(S)>=|S|\n",
    "\n",
    "Can be proved by induction:\n",
    "- Induction on |L|. Base Case: |L| = 1, |N(L)| >= |L| = 1, so there is a matching of size 1\n",
    "- Induction Hypothesis: The statement holds for all graphs with smaller |L| <= K\n",
    "- Induction step: prove the statement for |L| = k + 1\n",
    "- Pick a vertex $v \\in L$ and its neighbor $u \\in R$\n",
    "- If there is a matching on L \\ {v} and R \\ {u} -> done!\n",
    "- If there is no matching on L \\ {v} and R \\ {u},  then there is a set $S_1 \\subseteq L$ \\ {v} s.t. its neigborhood in R \\ {u} is <$|S_1|$ \n",
    "- Then its neigborhood $T_1$ in R is of size exactly $|S_1|$\n",
    "- By induction hypothesis there is a matching between $S_1$ and $T_1$, remove it\n",
    "- In the remaining graph, every set $S \\subseteq L$ has at least $|S| + |S_1| - |T_1| = |S| neighbors, there is a matching"
   ]
  },
  {
   "cell_type": "markdown",
   "metadata": {},
   "source": [
    "#### Quiz. Bipartite Graph\n",
    "\n",
    "Are all bipartite graphs trees?\n",
    "- Some trees are not bipartite - False\n",
    "- All trees are bipartite - True\n",
    "- All bipartite graphs are trees - False\n",
    "- Some bipartite graphs are not trees - True"
   ]
  },
  {
   "cell_type": "markdown",
   "metadata": {},
   "source": [
    "## 3.3 Planar Graphs\n",
    "\n",
    "### External Tool. Puzzle:Subway Lines\n",
    "http://dm.compsciclub.ru/app/quiz-subway-lines"
   ]
  },
  {
   "cell_type": "markdown",
   "metadata": {},
   "source": [
    "### Planar graphs \n",
    "- Usage example: used for the design of electronic circuits\n",
    "- A graph is called Planar if it can be drawn in the plane such that its edges do not meet except at their end points\n",
    "- Even if you usually draw a graph with intersecting edges, it is Planar if it can be drawn without crossing edges"
   ]
  },
  {
   "cell_type": "markdown",
   "metadata": {},
   "source": [
    "### Euler's Formula\n",
    "- Lets fix some Drawing of a planar graph\n",
    "- The face of the graph is a region bounded by the edges of the edges of the graph\n",
    "- Note that there is one infinitely large outer face\n",
    "\n",
    "*Theorem*  \n",
    "Let G be a connected planar graph drawn in the plane without edge intersections. Then v - e + f =2 , where v is the number of vertices, e is the number of edges, f is the number of faces in this draing of G\n",
    "Proof\n",
    "- Induction on the number c of cycles in G\n",
    "- Base Case. c = 0 : G is a tree. A tree has only one (outer) face, and it has v-1 edges.  \n",
    "Thus, v-e+f= v-(v-1)+1 = 2\n",
    "- Induction hypothesis. The formula holds for all graphs with <= c cycles\n",
    "- Induction Step: We will prove the formula for G with c+1 cycles, v vertices, e edges and f faces\n",
    "- Induction Step. G has c+1 cycles. Choose an edge from a cycle. If we remove it, we merge two faces.\n",
    "- The new graph $G_1$ has <= c cycles, $f_1 = f-1$ faces, $e_1 = e - 1$ edges, and $v_1 = v$ vertices\n",
    "- By the induction Hypothesis, $v_1 - e_1 + f_1 = 2$\n",
    "- Then $v-e+f = v_1 - (e_1+1) + (f_1+1) = v_1 - e_1 + f_1 = 2$"
   ]
  },
  {
   "cell_type": "markdown",
   "metadata": {},
   "source": [
    "### Applications of Euler's Formula\n",
    "\n",
    "#### The Number of Faces"
   ]
  },
  {
   "cell_type": "markdown",
   "metadata": {},
   "source": [
    "- Consider a connected planar graph on >= 3 vertices\n",
    "- Each face has at least 3 edges\n",
    "- On the other hand, each edge belongs to most 2 faces\n",
    "- The number p of pairs (face, edge) such that edge is an edge in the face:\n",
    "    - p >= 3f\n",
    "    - p <= 2e  \n",
    "- Thus, f <= 2e/3  \n",
    "\n",
    "#### Planar graphs are sparse\n",
    "Euler's formula: v-e+f = 2  \n",
    "f <= 2e/3\n",
    "For every connected planar graph on >= 3 vertics:\n",
    "- $e<=3v-6$\n",
    "- $2 = v - e + f <= v - e + 2e/3 = v - e/3$\n",
    "- Every connected planar graph has a vertex of degree <= 5:\n",
    "    - If all vertices have degree >= 6, then \n",
    "    $e = \\sum deg v_2/2 >= 3v$\n",
    "- For very connected bipartite planar graph on >= 4 vertices:  \n",
    "e <= 2v - 4  \n",
    "2 = v - e + f <= v - e + e/2 = v - e/2\n",
    "    \n",
    "#### $K_5$ is Nonplanar\n",
    "It has v = 5 vertices and e = 10 edges In a planar graph, e = 10 must be <= 3v - 6 = 9\n",
    "#### Is $K_{3, 3}$ planar?\n",
    "v = 6, e = 9, it does satisfy e <= 3v-6, but we can't be sure\n",
    "- In a planar bipartite graph e = 9 must be <= 2v - 4 = 8 -> graph is not bipartite!\n",
    "\n",
    "#### Number of Facrs in Bipartite Graphs\n",
    "\n",
    "- Bipartite graphs don't have cycles of odd length\n",
    "- Each face has at least 4 edges\n",
    "- The number p of pairs (face, edge) such that edge is an edge in the face, face is:\n",
    "    - p >= 4f\n",
    "    - p <= 2e\n",
    "- Thus, f <= e/2 "
   ]
  },
  {
   "cell_type": "markdown",
   "metadata": {},
   "source": [
    "### Quiz. Planar Graphs\n",
    "1. Are all cycle graphs planar?  \n",
    "Yes, any cycle graph can be drawn in the plane without crossing edges.\n",
    "2. How many vertices does a connected planar graph G have if it has 7 edges and can be drawn without any edge crossings with 4 faces?  \n",
    "Correct, by Euler's formula v = 2+e-f = 2+7-4 = 5; 5 vertices\n",
    "3. Is the full graph $K_6$  \n",
    "No\n",
    "4. We already know that the full bipartite graph $K_{3,3}$ is not planar. How many edges does one need to remove from it to make it planar?\n",
    "\n"
   ]
  },
  {
   "cell_type": "markdown",
   "metadata": {},
   "source": [
    "# W4. Graph Parameters\n",
    "\n",
    "## 4.1 Graph Parameters\n",
    "\n",
    "\n",
    "### External Tool. Puzzle: Map Coloring\n",
    "http://dm.compsciclub.ru/app/quiz-map-coloring\n",
    "\n",
    "### Map Coloring\n",
    "\n",
    "*Theorem (Appel, Hakel, 1976)*  \n",
    "Every map can be colored with 4 colors\n",
    "- Proved using a computer\n",
    "- Computer checked almost 2000 graphs\n",
    "- Robertson, Sanders, Seymour and Thomas gave a much simpler proof in 1997 (still using a computer search)"
   ]
  },
  {
   "cell_type": "markdown",
   "metadata": {},
   "source": [
    "### Graph Coloring\n",
    "\n",
    "- A graph coloring is a coloring of the graph vertices s.t. no pair of adjacent vertices share the same color.\n",
    "- The chromatic number $\\chi(G)$ of a graph G is the smallest number of colors needed to color the graph.\n",
    "\n",
    "Chromatic number for cycle $C_n$ with even length = 2  \n",
    "Chromatic number for cycle $C_n$ with odd length = 3  \n",
    "The chromatic number of a bipartite graph = 2"
   ]
  },
  {
   "cell_type": "markdown",
   "metadata": {},
   "source": [
    "### Coloring Planar Graph\n",
    "*Theorem (Appel, Haken, 1976)*  \n",
    "Every map can be colored with 4 colors. \n",
    "\n",
    "*Fact*  \n",
    "Every map corresponds to a planar graph, every planar graph can be formed from a map.  \n",
    "\n",
    "*Theorem (Appel, Haken, 1976, Restated)*  \n",
    "Every planar graph can be colored with 4 colors. (Hard to prove, so it wouldn be proven in course)"
   ]
  },
  {
   "cell_type": "markdown",
   "metadata": {},
   "source": [
    "#### Six Color theorem\n",
    "*Theorem (Week version)*  \n",
    "Every planar graph can be colored with 6 colors\n",
    "- Induction on the number of vertices n.\n",
    "- Base case. n<=6: can color with 6 colors.\n",
    "- Induction assumption. All planar graphs on k vertices can be colored with 6 colors.\n",
    "- Induction step. We'll show that any graph on k + 1 vertices can be colored with 6 colors.\n",
    "\n",
    "*Lemma*\n",
    "Every planar graph contains a vertex v of degree at most 5.\n",
    "\n",
    "#### Graphs of Bounded Degree\n",
    "*Greedy Coloring*  \n",
    "A graph G of maximum degree $\\Delta$ can be colored with $\\Delta + 1$ colors.\n",
    "\n",
    "*Theorem (Brooks, 1941)*  \n",
    "A graph G of maximum degree $\\Delta$ can be colored with $\\Delta$ colors, unless G is full $(K_n)$ or a cycle of odd length $(C_{2k+1})$."
   ]
  },
  {
   "cell_type": "markdown",
   "metadata": {},
   "source": [
    "#### Applications\n",
    "Exam schedule\n",
    "- Each student takes an exam in each of her courses\n",
    "- All students in one course take the exam together\n",
    "- One student cannot take two exams per day\n",
    "- What is the minimum number of days needed for the exams?  \n",
    "\n",
    "Solution:\n",
    "1. Let's construct a graph where each vertex would correspond to a course.\n",
    "2. Let's dra an edge between two verteces if there is a student who takes both of those courses. So there exists a student who takes both the cours in Graphs and the course in Proofs. We will draw an edge between Proofs and Graphs.\n",
    "3. Now if we color this graph then we get a schedule of the exams. For example, red exams can e scheduled in the same day."
   ]
  },
  {
   "cell_type": "markdown",
   "metadata": {},
   "source": [
    "#### Bandwidth allocation\n",
    "Different stations are allowed to use the same frequency if they are far part.  \n",
    "What is an optimal assignment of frequencies to stations?"
   ]
  },
  {
   "cell_type": "markdown",
   "metadata": {},
   "source": [
    "#### Other applications\n",
    "- Scheduling Problems\n",
    "- Register Allocation\n",
    "- Sudoku puzzles\n",
    "- Taxis scheduling"
   ]
  },
  {
   "cell_type": "markdown",
   "metadata": {},
   "source": [
    "### Quiz. Graph Coloring\n",
    "1. What is the chromatic number of $K_{3,3}$  \n",
    "2; because the chromatic number of any bipartite graph with at least one edge is 2.\n",
    "\n",
    "2. Is there a planar graph which cannot be colored in 5 colors?  \n",
    "No\n",
    "\n",
    "3. What is the largest value of chhromatic number of a graph on n vertices?\n",
    "    - n True\n",
    "    - 2\n",
    "    - 4\n",
    "    - n(n-1)/2\n",
    "    \n",
    "4.From Brooks' theorem we know that any graph of degree $\\Delta$ can be colored in $\\Delta+1$ colors. But is there a 5-regular graph which cannot be colored in 5 colors?  \n",
    "Yes, example - $K_6$ which is a 5 regular graph"
   ]
  },
  {
   "cell_type": "markdown",
   "metadata": {},
   "source": [
    "## 4.2 Cliques and Independet Sets\n",
    "\n",
    "### External Tool. Puzzle: Graph Cliques\n",
    "http://dm.compsciclub.ru/app/quiz-graph-cliques"
   ]
  },
  {
   "cell_type": "markdown",
   "metadata": {},
   "source": [
    "### Cliques and Independent sets\n",
    "\n",
    "#### Cliques\n",
    "- `Clique` of a graph is a set of vertices such that every two vertices are connected by an edge.\n",
    "\n",
    "- `Maximal Clique` is a clique which is not contained in any other clique (i.e. cannot be extended to a larger clique)\n",
    "- `Maximum Clique` is a clique such that there are no cliques with more vertices\n",
    "- The `Clique Number` $\\omega(G)$ of a graph $G$ is the number of vertices in its maximum clique\n",
    "\n",
    "#### Independent Sets\n",
    "- An `Independent Set (IS)` of a graph is a set of vertices such that no two vertices are connected by an edge.\n",
    "- A `Maximal Independent Set` is an IS which is not contained in any other IS (i.e., cannot be extended to a larger IS).\n",
    "- A `Maximum Independent Set` is an IS such that there are no IS's with more vertices.\n",
    "- The `Independence Number` $\\alpha(G)$ of a graph $G$ is the number of vertices in its maximum IS.\n"
   ]
  },
  {
   "cell_type": "markdown",
   "metadata": {},
   "source": [
    "### Connections to Coloring\n",
    "#### Chromatic and Independence Numbers\n",
    "*Theorem*  \n",
    "For every graph G on n vertices it holds that:  \n",
    "$\\chi(G) \\times \\alpha(G) >= n$\n",
    "*Proof*  \n",
    "- n vertices can be partitioned into $\\chi(G)$ IS `\n",
    "- Each IS is of size <= $\\alpha(G)$\n",
    "- Therefore, n <= $\\chi(G) \\times \\alpha(G)$"
   ]
  },
  {
   "cell_type": "markdown",
   "metadata": {},
   "source": [
    "### Mantel's Theorem\n",
    "*Theorem*  \n",
    "If a graph G on n evrtices contains no triangles, then it has at most [$n^2/4$] edges.  \n",
    "*Proof*:\n",
    "- Induction on n\n",
    "- Base cases. n = 1,2: trivial\n",
    "- Induction hypothesis. Holds for all graphs of size <= n-2\n",
    "- Induction step will prove the tatement for all graphs of size <= n. Step of size 2, this is why we did base cases for n = 1,2\n",
    "- Pick a pair of connected vertices u,v. Then deg(u) + deg(v) <= n\n",
    "- Let H be G without u and v\n",
    "- By Induction Hypothesis, H has at most $\\lfloor {(n-2)}^2/4 \\rfloor$ edges\n",
    "- The number of edges in G is:  \n",
    "<= $\\lfloor (n-2)^2/4 \\rfloor + (n-1)$  \n",
    "$= \\lfloor (n^2 - 4n + 4)/4 \\rfloor + (n-1)$  \n",
    "$= \\lfloor n^2/4 \\rfloor - (n-1) + (n-1)$  \n",
    "$= \\lfloor n^2/4 \\rfloor$"
   ]
  },
  {
   "cell_type": "markdown",
   "metadata": {},
   "source": [
    "#### Turan's Theorem\n",
    "*Theorem*  \n",
    "If a graph G on n vertices contains no $K_{r+1}$, then it has at most $(1 - \\frac{1}{r})\\frac{n^2}{2}$ edges."
   ]
  },
  {
   "cell_type": "markdown",
   "metadata": {},
   "source": [
    "### Quiz. Cliques and Independent Sets\n",
    "1. What is the clique number of $C_5$?  \n",
    "A: The largest cliques in $C_5$ has size 2.\n",
    "2. What is the independence number of $C_5$ ?  \n",
    "A: The largest independence set in $C_5$ has size 2.\n",
    "3. What is the clique number of a bipartite graph with at least one edge?  \n",
    "A: A bipartite graph doesn't contain cycles of length 3, thus, it doesn't contain cliques of size 3 and larger. (Answer is 2)\n",
    "4. Mantel's theorem says that a graph on n vertices without triangles has at most $\\lfloor \\frac{n^2}{4} \\rfloor$ edges.\n",
    "Which of these graphs has $\\lfloor \\frac{n^2}{4}\\rfloor$ edges, and doesn't contain triangles for all values of n?  \n",
    "A: $K_{⌊n/2⌋,⌈n/2⌉}$; Correct, this graph is bipartite, so it doesn't cycles of length 3 (or triangles). Also, it has $⌊n/2⌋⋅⌈n/2⌉=\\lfloor \\frac{n^2}{4}\\rfloor$ edges."
   ]
  },
  {
   "cell_type": "markdown",
   "metadata": {},
   "source": [
    "## 4.3 Ramsey Numbers\n",
    "\n",
    "### External Tool. Puzzle: Balanced Graphs\n",
    "http://dm.compsciclub.ru/app/quiz-balanced-graphs"
   ]
  },
  {
   "cell_type": "markdown",
   "metadata": {},
   "source": [
    "Note: The clique Number and Independence Number of $C_5$ are 2."
   ]
  },
  {
   "cell_type": "markdown",
   "metadata": {},
   "source": [
    "### Ramsey Numbers\n",
    "- 1950s, the Hungarian sociologist S. Szalai studies friendship between children\n",
    "- Oberves: in any group of 20 children, there are 4 mutual friends or 4 children s.t. no 2 are friends.\n",
    "- This holds in any group of 18 and more people\n",
    "\n",
    "For two integers k, l, the `Ramsey Number R(k,l)` is the minimum number, s.t. every graph with at least R(k,l) vertices must have:\n",
    "    - either a clique of size *k*\n",
    "    - or an independent set of size *l*\n",
    "- R(3,3) = 6 (6 - number of vertices required to form a complete graph)\n",
    "- R(4,4) = 18\n",
    "- 43<= R(5,5) <= 48 (big problem in maths!)"
   ]
  },
  {
   "cell_type": "markdown",
   "metadata": {},
   "source": [
    "### Existence of Ramsey Numbers (quite similar to pigeneholes)\n",
    "#### Does R(k,l) make sense?\n",
    "- Does R(k,l) exist for all values of k, l\n",
    "- How do we know that all large graphs have either a large Clique or a large IS(Independent Set)?\n",
    "- Ok R(k,l) exists for k <= 3 and l <= 3\n",
    "- We will prove R(k,l) <= R(k-1,l) + R(k,l-1)\n",
    "- This gives an upper bound on R(k,l) for all k,l\n",
    "- Therefore, R(k,l) always exists!\n",
    "\n",
    "#### Ramsey's Theorem\n",
    "R(k,l) <= R(k-1, l) + R(k,l-1)\n",
    "*Proof*\n",
    "- Consider a graph G on R(k-1,l) + R(k,l-1) vertices\n",
    "- We will prove G contains either a k-Clique or an l-independent Set\n",
    "- Pick an arbitrary vertex v, A - set of neighbors of v, B - remaining vertices\n",
    "- $|A| + |B| + 1 = R(k-1,l) + R(k, l-1)$\n",
    "- Either $|A|>=R(k-1,l)$ or $|B|>=R(k,l-1)$\n",
    "    - 1st case, $|A|>=R(k-1,l)$:\n",
    "        - Either A has l-IS - done!\n",
    "        - Or $A \\cup v$ has a k-Clique - done!\n",
    "    - 2nd case, $|B|>=R(k,l-1)$:\n",
    "        - Either B has a k-clique - done!\n",
    "        - Or B \\cup v has a l-IS - done!"
   ]
  },
  {
   "cell_type": "markdown",
   "metadata": {},
   "source": [
    "### Quiz. Ramsey Numbers\n",
    "1. What is the value of Ramsey number R(2, 2)? That is, what is the smallest number n, s.t. every graph on n vertices contains either a clique of size 2 (i.e., an edge) or an independent set of size 2 (i.e., two vertices without an edge between them)? A: 2\n",
    "\n",
    "2. What is the value of Ramsey number R(2, 3)?  \n",
    "A: Correct. If there are no edges, then this graph forms an independent set of size 3. If there is at least one edge, then this graph has a clique of size 2: 3\n",
    "\n",
    "3. What is the value of Ramsey number R(2, n)?  \n",
    "A: Correct, every graph on n vertices must contain either an edge (a clique of size 2) or an independent set of size n.\n",
    "\n",
    "4. What is the value of R(n, 2)?  \n",
    "A: Correct. In general, R(k, l)=R(l, k) for all values of k and l. (We can always look at the complement of a graph where cliques become independent sets, and independent sets become cliques)\n"
   ]
  },
  {
   "cell_type": "markdown",
   "metadata": {},
   "source": [
    "## 4.4 Vertex Cover\n",
    "\n",
    "### External Tool. Puzzle: Antivirus System\n",
    "http://dm.compsciclub.ru/app/quiz-antivirus-system\n",
    "- 12 edges, max deg is 4\n",
    "- All vertices of deg 4 don't cover all edges\n",
    "- Thus, need at least 4 vertices"
   ]
  },
  {
   "cell_type": "markdown",
   "metadata": {},
   "source": [
    "### Vertex Covers\n",
    "\n",
    "- A `vertex Cover` of a graph G is a set of vertices C such that every edge of G is connected to some vertex in C.\n",
    "- A `minimal vertex cover` is a vertex cover which does not contain other vertex covers.\n",
    "- A `minumum vertex cover` is a vertex cover of the smallest size.\n",
    "- The Size of a Minimum Vertex Cover is denoted by $\\beta (G)$.\n",
    "\n",
    "*Fact*  \n",
    "A set of vertices is a Vertex Cover if and only if its complement is an Independent Set  \n",
    "*Corollary*  \n",
    "For every graph G on n vertices:\n",
    "$\\beta(G) + \\alpha(G) = n$"
   ]
  },
  {
   "cell_type": "markdown",
   "metadata": {},
   "source": [
    "### Konig's Theorem\n",
    "\n",
    "*Fact*\n",
    "The vertices of any Maximal Matching form a Vertex Cover.  \n",
    "Indeed, if an edge (u,v) is not covered by a matching, then it can be added to it (contradicts its maximality).  \n",
    "*Theorem (Konig, 1931)*  \n",
    "In a bipartite graph, the number of edges in a Maximum MAtching equals the number of vertices in a Minimum Vertex Cover.  \n",
    "*Proof*  \n",
    "In a bipartite graph $G = ((L \\cup R), E)$, the number of edges in a Maximum Matching equals the number of vertices in a Minimum Vertex Cover\n",
    "\n",
    "- A Vertex Cover (VC) must contain at least 1 vertex from each edge of a Matching\n",
    "- Thus, |Min VC| >= |Max Matching|\n",
    "- Lets show that |Min VC| <= |Max Matching|\n",
    "\n",
    "#### Konig's Theorem from Hall's Theorem\n",
    "- A Min VC C. $L_C = L \\cap C, R_C = R \\cap C$\n",
    "- Let $G_1$ be the subgraph on $(L / L_C ) \\cup R_C$\n",
    "- $\\forall S \\subseteq R_C |N(S)| >= |S|$ (otherwise C is not min)\n",
    "- By Hall's Theorem, $G_1$ has a matching of size $R_C$\n",
    "- Similarly, $G_2$ - the subgraph on $L_C \\cup (R / R_C)$ has a matching of size $L_C$\n",
    "- Total matching size $|L_C| + |R_C| = |C|$"
   ]
  },
  {
   "cell_type": "markdown",
   "metadata": {},
   "source": [
    "### Quiz. Vertex Covers\n",
    "\n",
    "2. What is the size of a minimum vertex cover in $K_5$?  \n",
    "A: 4; Correct, any set of 4 vertices covers all edges.\n",
    "3. What is the size of a minimum vertex cover in $K_n$?  \n",
    "A: n-1; Correct, any set of (n-1) vertices covers all edges.\n",
    "4. Give an example of a graph on nn vertices where a minimum vertex cover has size $\\beta > n/2$ and a maximum independent set has size $\\alpha > n/2$.  \n",
    "A: There are no such graphs. Correct. In any graph G on n vertices, $\\beta(G)+\\alpha(G)=nβ(G)+α(G)=n$, thus, there are no such graphs."
   ]
  },
  {
   "cell_type": "markdown",
   "metadata": {},
   "source": [
    "# Useful resources:\n",
    "\n",
    "https://visualgo.net/en"
   ]
  }
 ],
 "metadata": {
  "kernelspec": {
   "display_name": "Python 3",
   "language": "python",
   "name": "python3"
  },
  "language_info": {
   "codemirror_mode": {
    "name": "ipython",
    "version": 3
   },
   "file_extension": ".py",
   "mimetype": "text/x-python",
   "name": "python",
   "nbconvert_exporter": "python",
   "pygments_lexer": "ipython3",
   "version": "3.6.10"
  }
 },
 "nbformat": 4,
 "nbformat_minor": 2
}
