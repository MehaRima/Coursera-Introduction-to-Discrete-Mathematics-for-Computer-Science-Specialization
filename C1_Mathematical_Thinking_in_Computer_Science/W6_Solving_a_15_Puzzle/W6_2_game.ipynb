{
 "cells": [
  {
   "cell_type": "markdown",
   "metadata": {},
   "source": [
    "## Even permutations"
   ]
  },
  {
   "cell_type": "markdown",
   "metadata": {},
   "source": [
    "This task (solving the 15-puzzle) contains several parts. To find whether a solution exists, we need to know whether a given permutation is even. We discussed this algorithm; now you have to implement it using Python.\n",
    "\n",
    "In Python arrays are indexed from 0, so a permutation p of n objects is represented by a sequence\n",
    "\n",
    "p[0],...,p[n-1]\n",
    "\n",
    "that contains numbers 0,1,2,...,n-1 (each number appears exactly once). In Python language,"
   ]
  },
  {
   "cell_type": "code",
   "execution_count": 1,
   "metadata": {},
   "outputs": [
    {
     "name": "stdout",
     "output_type": "stream",
     "text": [
      "True\n",
      "True\n",
      "False\n"
     ]
    }
   ],
   "source": [
    "def is_permutation(p):\n",
    "    return (set(p)==set(range(len(p))))\n",
    "       \n",
    "print (is_permutation([0]))\n",
    "print (is_permutation([0,2,1]))\n",
    "print (is_permutation([1,2,3]))"
   ]
  },
  {
   "cell_type": "markdown",
   "metadata": {},
   "source": [
    "\n",
    "\u0001\u0001\n",
    "(the first two calls give True, and the third gives False).\n",
    "\n",
    "Now write (may be using the idea we discussed, or some better method) a function\n",
    "\n",
    "is_even_permutation(p)\n",
    "\n",
    "that assumes that p is a permutation of some length (positive) and returns True for even permutations and False for odd ones. (The permutation itself should be left unchanged)"
   ]
  },
  {
   "cell_type": "markdown",
   "metadata": {},
   "source": [
    "## Finding sequence of moves"
   ]
  },
  {
   "cell_type": "code",
   "execution_count": null,
   "metadata": {},
   "outputs": [],
   "source": [
    "We have shown that a position in the 15-puzzle is unsolvable if the corresponding permutation of 15 objects is odd. We have not shown yet that the reverse statement is true, i.e., that for every even permutation the puzzle is solvable. It is indeed true, and the challenge now is to write a program that produces a sequence of moves for every solvable configuration.\n",
    "\n",
    "Unfortunately, our representation of permutations in python starts with 0, and the numbering of pieces starts with 1. To make the output more readable, let us agree that the empty is represented by 0, and the other pieces are listed according to their labels in the \"reading order\", so the standard position is represented as [1, 2, 3, 4, 5, 6, 7, 8, 9, 10, 11, 12, 13, 14, 15, 0] while the impossible configuration we discussed is represented as [1, 2, 3, 4, 5, 6, 7, 8, 9, 10, 11, 12, 13, 15, 14, 0]. So the position is now represented by a permutation of 0..15, and we assume for simplicity that in the initial position the last number (bottom right cell) is 0.\n",
    "\n",
    "Getting such a sequence as input that corresponds to a solvable configuration, your program should output a sequence of moves that transform this configuration into a standard one. Each move is represented by an integer, a number on the piece that is moved\n",
    "\n",
    "For example, you may check that for the position [1, 2, 3, 4, 5, 6, 7, 8, 13, 9, 11, 12, 10, 14, 15, 0] one of the solution is [15, 14, 10, 13, 9, 10, 14, 15]"
   ]
  },
  {
   "cell_type": "code",
   "execution_count": null,
   "metadata": {},
   "outputs": [],
   "source": []
  }
 ],
 "metadata": {
  "kernelspec": {
   "display_name": "Python 3",
   "language": "python",
   "name": "python3"
  },
  "language_info": {
   "codemirror_mode": {
    "name": "ipython",
    "version": 3
   },
   "file_extension": ".py",
   "mimetype": "text/x-python",
   "name": "python",
   "nbconvert_exporter": "python",
   "pygments_lexer": "ipython3",
   "version": "3.7.3"
  }
 },
 "nbformat": 4,
 "nbformat_minor": 2
}
