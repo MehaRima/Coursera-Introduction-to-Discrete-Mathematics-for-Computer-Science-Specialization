{
 "cells": [
  {
   "cell_type": "markdown",
   "metadata": {},
   "source": [
    "This task (solving the 15-puzzle) contains several parts. To find whether a solution exists, we need to know whether a given permutation is even. We discussed this algorithm; now you have to implement it using Python.\n",
    "\n",
    "In Python arrays are indexed from 0, so a permutation p of n objects is represented by a sequence\n",
    "\n",
    "p[0],...,p[n-1]\n",
    "\n",
    "that contains numbers 0,1,2,...,n-1 (each number appears exactly once). In Python language,"
   ]
  },
  {
   "cell_type": "code",
   "execution_count": 1,
   "metadata": {},
   "outputs": [
    {
     "name": "stdout",
     "output_type": "stream",
     "text": [
      "True\n",
      "True\n",
      "False\n"
     ]
    }
   ],
   "source": [
    "def is_permutation(p):\n",
    "    return (set(p)==set(range(len(p))))\n",
    "       \n",
    "print (is_permutation([0]))\n",
    "print (is_permutation([0,2,1]))\n",
    "print (is_permutation([1,2,3]))"
   ]
  },
  {
   "cell_type": "markdown",
   "metadata": {},
   "source": [
    "\n",
    "\u0001\u0001\n",
    "(the first two calls give True, and the third gives False).\n",
    "\n",
    "Now write (may be using the idea we discussed, or some better method) a function\n",
    "\n",
    "is_even_permutation(p)\n",
    "\n",
    "that assumes that p is a permutation of some length (positive) and returns True for even permutations and False for odd ones. (The permutation itself should be left unchanged)"
   ]
  },
  {
   "cell_type": "code",
   "execution_count": null,
   "metadata": {},
   "outputs": [],
   "source": []
  }
 ],
 "metadata": {
  "kernelspec": {
   "display_name": "Python 3",
   "language": "python",
   "name": "python3"
  },
  "language_info": {
   "codemirror_mode": {
    "name": "ipython",
    "version": 3
   },
   "file_extension": ".py",
   "mimetype": "text/x-python",
   "name": "python",
   "nbconvert_exporter": "python",
   "pygments_lexer": "ipython3",
   "version": "3.7.3"
  }
 },
 "nbformat": 4,
 "nbformat_minor": 2
}
